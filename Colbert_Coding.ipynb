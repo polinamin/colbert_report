{
 "cells": [
  {
   "cell_type": "markdown",
   "metadata": {
    "id": "F3JWHcEXOUwR"
   },
   "source": [
    "# Import packages"
   ]
  },
  {
   "cell_type": "code",
   "execution_count": 2,
   "metadata": {
    "id": "s13tY4fF4mOc",
    "tags": []
   },
   "outputs": [
    {
     "name": "stderr",
     "output_type": "stream",
     "text": [
      "/Users/polinaminkovski/anaconda3/lib/python3.11/site-packages/pandas/core/arrays/masked.py:60: UserWarning: Pandas requires version '1.3.6' or newer of 'bottleneck' (version '1.3.5' currently installed).\n",
      "  from pandas.core import (\n",
      "[nltk_data] Downloading package wordnet to\n",
      "[nltk_data]     /Users/polinaminkovski/nltk_data...\n",
      "[nltk_data]   Package wordnet is already up-to-date!\n",
      "[nltk_data] Downloading package stopwords to\n",
      "[nltk_data]     /Users/polinaminkovski/nltk_data...\n",
      "[nltk_data]   Package stopwords is already up-to-date!\n"
     ]
    },
    {
     "data": {
      "text/plain": [
       "True"
      ]
     },
     "execution_count": 2,
     "metadata": {},
     "output_type": "execute_result"
    }
   ],
   "source": [
    "import numpy as np\n",
    "import pandas as pd\n",
    "import seaborn as sns\n",
    "import matplotlib.pyplot as plt\n",
    "\n",
    "import datetime\n",
    "from datetime import date\n",
    "\n",
    "from sklearn.model_selection import train_test_split, GridSearchCV, StratifiedKFold\n",
    "from sklearn.pipeline import Pipeline\n",
    "from sklearn.naive_bayes import MultinomialNB, BernoulliNB, GaussianNB\n",
    "from sklearn.linear_model import LogisticRegression, LogisticRegressionCV\n",
    "from sklearn.metrics import confusion_matrix, ConfusionMatrixDisplay,make_scorer,recall_score, accuracy_score, precision_score\n",
    "from sklearn.feature_extraction.text import CountVectorizer, TfidfVectorizer\n",
    "from sklearn.ensemble import RandomForestClassifier, ExtraTreesClassifier, AdaBoostClassifier\n",
    "from sklearn.feature_extraction.text import CountVectorizer\n",
    "from sklearn.tree import export_text, DecisionTreeClassifier, plot_tree\n",
    "\n",
    "import nltk\n",
    "from nltk.stem import WordNetLemmatizer\n",
    "import re\n",
    "nltk.download('wordnet')\n",
    "nltk.download(\"stopwords\")"
   ]
  },
  {
   "cell_type": "code",
   "execution_count": null,
   "metadata": {
    "id": "MX36DWp1k5cT"
   },
   "outputs": [],
   "source": [
    "pip install thefuzz"
   ]
  },
  {
   "cell_type": "code",
   "execution_count": 2,
   "metadata": {
    "id": "T6gHvyvxjfmh",
    "tags": []
   },
   "outputs": [],
   "source": [
    "from thefuzz import fuzz\n",
    "from thefuzz import process"
   ]
  },
  {
   "cell_type": "code",
   "execution_count": null,
   "metadata": {
    "id": "ya1o5RNl67D3"
   },
   "outputs": [],
   "source": [
    "pip install google-api-python-client"
   ]
  },
  {
   "cell_type": "code",
   "execution_count": null,
   "metadata": {
    "id": "oPwubs4P6-ec"
   },
   "outputs": [],
   "source": [
    "pip install youtube_transcript_api"
   ]
  },
  {
   "cell_type": "code",
   "execution_count": null,
   "metadata": {
    "id": "MN-uhL6x61hG"
   },
   "outputs": [],
   "source": [
    "from googleapiclient.discovery import build\n",
    "from youtube_transcript_api import YouTubeTranscriptApi"
   ]
  },
  {
   "cell_type": "code",
   "execution_count": null,
   "metadata": {
    "id": "JXb-U6yIE1al"
   },
   "outputs": [],
   "source": [
    "pip install scrapetube"
   ]
  },
  {
   "cell_type": "code",
   "execution_count": 3,
   "metadata": {
    "id": "OCXrozId5Nks",
    "tags": []
   },
   "outputs": [],
   "source": [
    "import pickle"
   ]
  },
  {
   "cell_type": "code",
   "execution_count": null,
   "metadata": {
    "id": "LBjHKuVbEyYt"
   },
   "outputs": [],
   "source": [
    "import scrapetube"
   ]
  },
  {
   "cell_type": "markdown",
   "metadata": {
    "id": "wC9OOdRXOYIB"
   },
   "source": [
    "# Setup for API"
   ]
  },
  {
   "cell_type": "code",
   "execution_count": null,
   "metadata": {
    "id": "GEvAFSvizfwe"
   },
   "outputs": [],
   "source": [
   
   ]
  },
  {
   "cell_type": "code",
   "execution_count": null,
   "metadata": {
    "id": "en6gbOmUZzR6"
   },
   "outputs": [],
   "source": [
  
   ]
  },
  {
   "cell_type": "code",
   "execution_count": null,
   "metadata": {
    "id": "o9c0qp8XvJZW"
   },
   "outputs": [],
   "source": [
   
   ]
  },
  {
   "cell_type": "markdown",
   "metadata": {
    "id": "YqaH-G4lOhog"
   },
   "source": [
    "### Scrape Playlist (Colbert Questionnert)"
   ]
  },
  {
   "cell_type": "code",
   "execution_count": null,
   "metadata": {
    "id": "BYJciRB35rrf"
   },
   "outputs": [],
   "source": [
    "#code support from stackoverflow user - José Angel Bernal\n",
    "#pull all the titles and transcripts from the playlist (once/if playlist is created)\n",
    "\n",
    "#1.query API\n",
    "\n",
    "rq = build(\"youtube\", \"v3\", developerKey=api_key).playlistItems().list(\n",
    "        part=\"contentDetails, snippet\",\n",
    "        playlistId=\"PLiZxWe0ejyv_wVOeoEO7tjHq-GZg_GGqK\",\n",
    "        maxResults=45,\n",
    "        ).execute()\n",
    "\n",
    "#2.Create a list with video Ids and Titles\n",
    "\n",
    "vid_ids = []\n",
    "vid_title = []\n",
    "for item in rq[\"items\"]:\n",
    "    vid_ids.append(item[\"contentDetails\"][\"videoId\"])\n",
    "    vid_title.append(item[\"snippet\"][\"title\"])\n",
    "\n",
    "#3.Get transcripts\n",
    "\n",
    "srt = YouTubeTranscriptApi.get_transcripts(vid_ids)\n",
    "\n",
    "#4.For each video id extract the Key:\"text\" from a list of dictionaries\n",
    "\n",
    "for i in vid_ids:\n",
    "    get_key_text = [\" \".join([a_dict[\"text\"] for a_dict in srt[0][i]]) for i in vid_ids]\n",
    "\n",
    "#5.Create a dictionary with the title and transcript for each video id\n",
    "\n",
    "pl_dict = dict(zip(vid_title,get_key_text))\n",
    "\n",
    "#6.print trancript under title\n",
    "\n",
    "#for key, value in pl_dict.items():\n",
    "#    print(key,\"\\n\", value)\n",
    "\n",
    "#7. create list of tuples of titles and transcripts\n",
    "pl_list = list(zip(vid_title,get_key_text))"
   ]
  },
  {
   "cell_type": "code",
   "execution_count": null,
   "metadata": {
    "id": "MnSiznhe5wcp"
   },
   "outputs": [],
   "source": [
    "pl_df = pd.DataFrame(pl_list, columns = [\"title\", \"transcipt\"])"
   ]
  },
  {
   "cell_type": "code",
   "execution_count": null,
   "metadata": {
    "id": "YVDd10qF5zYf"
   },
   "outputs": [],
   "source": [
    "pl_df.to_csv(\"questions_transcript.csv\") #transcripts saved for all questionnert videos in the playlist"
   ]
  },
  {
   "cell_type": "code",
   "execution_count": null,
   "metadata": {
    "id": "PKA_0PZW5z-w"
   },
   "outputs": [],
   "source": [
    "transcripts_playlist = pd.read_csv('questions_transcript.csv')"
   ]
  },
  {
   "cell_type": "code",
   "execution_count": null,
   "metadata": {
    "id": "lQO0Puh-7hrv"
   },
   "outputs": [],
   "source": [
    "separator = \" Takes\"\n",
    "transcripts_playlist[[\"title_tail_1\",\"title_tail_2\"]] = transcripts_playlist[\"title\"].str.split(separator,expand=True)"
   ]
  },
  {
   "cell_type": "markdown",
   "metadata": {
    "id": "nxr7GHN7OzOn"
   },
   "source": [
    "### Scrape Channel (The Late Show With Stephen Colbert)"
   ]
  },
  {
   "cell_type": "markdown",
   "metadata": {
    "id": "hb6ryASpSE7T"
   },
   "source": [
    "### Getting all the Video IDs from the Channel"
   ]
  },
  {
   "cell_type": "code",
   "execution_count": null,
   "metadata": {
    "id": "K3UqYBWoD62v"
   },
   "outputs": [],
   "source": [
    "list_of_vids=[]\n",
    "dataframe = pd.DataFrame(columns = [\"vid_id\"])\n",
    "videos=scrapetube.get_channel(\"UCMtFAi84ehTSYSE9XoHefig\")\n",
    "for video in videos:\n",
    "  vidid1 = str(video['videoId'])\n",
    "  list_of_vids.append(vidid1)\n",
    "dataframe['vid_id']=list_of_vids\n",
    "dataframe"
   ]
  },
  {
   "cell_type": "code",
   "execution_count": null,
   "metadata": {
    "id": "8f2RL1ydHq4E"
   },
   "outputs": [],
   "source": [
    "dataframe.to_csv(\"all_vidids.csv\") #saving to CSV to not run this again"
   ]
  },
  {
   "cell_type": "code",
   "execution_count": null,
   "metadata": {
    "id": "LNmLR9PsOqkA"
   },
   "outputs": [],
   "source": [
    "dataframe = pd.read_csv(\"all_vidids.csv\", index_col=[0])"
   ]
  },
  {
   "cell_type": "code",
   "execution_count": null,
   "metadata": {
    "id": "BEdOPKjVPWZi"
   },
   "outputs": [],
   "source": [
    "list_of_vids = list(dataframe['vid_id'])"
   ]
  },
  {
   "cell_type": "markdown",
   "metadata": {
    "id": "L9P66q6aUgQn"
   },
   "source": [
    "### Testing out the transcript API"
   ]
  },
  {
   "cell_type": "code",
   "execution_count": null,
   "metadata": {
    "id": "Qjsyadx0FCTu"
   },
   "outputs": [],
   "source": [
    "#get transcripts for all vid IDs, and skip videos where transcripts are disabled\n",
    "srt_all = []\n",
    "for vid_id in list_of_vids:\n",
    "    try:\n",
    "        srt_all += [YouTubeTranscriptApi.get_transcripts([vid_id])]\n",
    "    except:\n",
    "        srt_all += [({vid_id == []}, [])]"
   ]
  },
  {
   "cell_type": "code",
   "execution_count": null,
   "metadata": {
    "id": "e3H88ozjFIEy"
   },
   "outputs": [],
   "source": [
    "with open('transcripts_all.pkl', 'wb') as file:\n",
    "\n",
    "    # A new file will be created\n",
    "    pickle.dump(srt_all, file)"
   ]
  },
  {
   "cell_type": "code",
   "execution_count": null,
   "metadata": {
    "id": "fqXOiTAvO5mc"
   },
   "outputs": [],
   "source": [
    "file = open(\"transcripts_all.pkl\",'rb')\n",
    "object_file = pickle.load(file)"
   ]
  },
  {
   "cell_type": "code",
   "execution_count": null,
   "metadata": {
    "id": "K9eET98SmipJ"
   },
   "outputs": [],
   "source": [
    "#organize transcripts by Video ID\n",
    "get_key_text_all = []\n",
    "for video in object_file: #i in range(len(vid_ids_all_unique)):\n",
    "  if len(video) == 0 or type(video[0]) is not dict: continue\n",
    "\n",
    "  list_of_list_of_content_dicts = list(video[0].values())\n",
    "  if type(list_of_list_of_content_dicts) is not list: continue\n",
    "\n",
    "  transcript_ = []\n",
    "  for list_of_content_dict in list_of_list_of_content_dicts:\n",
    "    for content_dict in list_of_content_dict:\n",
    "      transcript_.append(content_dict[\"text\"])\n",
    "      transcript_string = \" \".join(transcript_)\n",
    "    get_key_text_all.append(transcript_string)\n",
    "\n",
    "#5.Create a dictionary with the title and transcript for each video id\n",
    "\n",
    "pl_dict_all = dict(zip(list_of_vids, get_key_text_all))\n",
    "\n",
    "#6.print trancript under title\n",
    "\n",
    "#for key, value in pl_dict.items():\n",
    "#    print(key,\"\\n\", value)\n",
    "\n",
    "#7. create list of tuples of titles and transcripts\n",
    "pl_list_all = list(zip(list_of_vids,get_key_text_all))"
   ]
  },
  {
   "cell_type": "code",
   "execution_count": null,
   "metadata": {
    "id": "ATU6Io-axaPb"
   },
   "outputs": [],
   "source": [
    "with open('colbert_transcripts_processed.pkl', 'wb') as file:\n",
    "\n",
    "    # A new file will be created\n",
    "    pickle.dump(pl_dict_all, file)"
   ]
  },
  {
   "cell_type": "code",
   "execution_count": null,
   "metadata": {
    "id": "-jqCvH20xr-9"
   },
   "outputs": [],
   "source": [
    "file = open(\"colbert_transcripts_processed.pkl\",'rb')\n",
    "colbert_transcripts_processed = pickle.load(file)"
   ]
  },
  {
   "cell_type": "markdown",
   "metadata": {
    "id": "IV_NU54tS4kp"
   },
   "source": [
    "### Running the full Scrape (1000 entries at a time)"
   ]
  },
  {
   "cell_type": "code",
   "execution_count": null,
   "metadata": {
    "id": "pJT2gkFxx8xw"
   },
   "outputs": [],
   "source": [
    "url_dem = \"https://raw.githubusercontent.com/polinamin/colbert_report/main/all_vidids.csv\"\n",
    "dataframe = pd.read_csv(url_dem, low_memory=False)"
   ]
  },
  {
   "cell_type": "code",
   "execution_count": null,
   "metadata": {
    "id": "QjcazOr_yIdw"
   },
   "outputs": [],
   "source": [
    "list_of_vids = list(dataframe['vid_id'])"
   ]
  },
  {
   "cell_type": "code",
   "execution_count": null,
   "metadata": {
    "id": "znCxi_QU1f8u"
   },
   "outputs": [],
   "source": [
    "list_of_vids[100]"
   ]
  },
  {
   "cell_type": "code",
   "execution_count": null,
   "metadata": {
    "id": "8T3xNX141loK"
   },
   "outputs": [],
   "source": [
    "video_details = build(\"youtube\", \"v3\", developerKey=api_key).videos().list(\n",
    "        part=\"contentDetails, snippet\",\n",
    "        id=\"KmOn6LomXd0\"\n",
    "        ).execute()\n",
    "video_details['itmes']"
   ]
  },
  {
   "cell_type": "code",
   "execution_count": null,
   "metadata": {
    "id": "U3Bfm7eHYBH1"
   },
   "outputs": [],
   "source": [
    "#build title, id, date reference df (entries 0-999)\n",
    "ids, titles, dates, descriptions = [], [], [], []\n",
    "for vidid in list_of_vids[0:1000]:\n",
    "  video_details = build(\"youtube\", \"v3\", developerKey=api_key).videos().list(\n",
    "        part=\"contentDetails, snippet\",\n",
    "        id=vidid\n",
    "        ).execute()\n",
    "  id=video_details['items'][0]['id']\n",
    "  title=video_details['items'][0]['snippet']['title']\n",
    "  date=video_details['items'][0]['snippet']['publishedAt']\n",
    "  description=video_details['items'][0]['snippet']['description']\n",
    "\n",
    "\n",
    "  ids.append(id)\n",
    "  titles.append(title)\n",
    "  dates.append(date)\n",
    "  descriptions.append(description)\n",
    "\n",
    "vid_details_df = pd.DataFrame({'video_title': titles, 'video_id': ids, 'published_date': dates, 'description': descriptions})\n"
   ]
  },
  {
   "cell_type": "code",
   "execution_count": null,
   "metadata": {
    "id": "HOMPF44-st7t"
   },
   "outputs": [],
   "source": [
    "#build title, id, date reference df (entries 0-999) - get viewing statistics\n",
    "ids, views, likes, comments, durations = [], [], [], [], []\n",
    "for vidid in list_of_vids[0]:\n",
    "  video_details = build(\"youtube\", \"v3\", developerKey=api_key).videos().list(\n",
    "        part=\"statistics, contentDetails\",\n",
    "        id=vidid\n",
    "        ).execute()\n",
    "  print(video_details)\n",
    "\n",
    "  id=video_details['items'][0]['id']\n",
    "  view=video_details['items'][0]['statistics'][\"viewCount\"]\n",
    "  like=video_details['items'][0]['statistics'][\"likeCount\"]\n",
    "  comment=video_details['items'][0]['statistics'][\"commentCount\"]\n",
    "  duration=video_details['items'][0]['contentDetails'][\"duration\"]\n",
    "\n",
    "  ids.append(id)\n",
    "  views.append(view)\n",
    "  likes.append(like)\n",
    "  comments.append(comment)\n",
    "  durations.append(duration)\n",
    "\n",
    "vid_details_df_stats = pd.DataFrame({'video_id': ids, 'video_views': views, 'video_likes': likes, 'video_comments': comments, 'video_duration': duratinos})"
   ]
  },
  {
   "cell_type": "code",
   "execution_count": null,
   "metadata": {
    "id": "Wul4Vpsjhowg"
   },
   "outputs": [],
   "source": [
    "#build title, id, date reference df (entries 1001-2000)\n",
    "ids, titles, dates, descriptions = [], [], [], []\n",
    "for vidid in list_of_vids[1000:2000]:\n",
    "  video_details = build(\"youtube\", \"v3\", developerKey=api_key).videos().list(\n",
    "        part=\"contentDetails, snippet\",\n",
    "        id=vidid\n",
    "        ).execute()\n",
    "  id=video_details['items'][0]['id']\n",
    "  title=video_details['items'][0]['snippet']['title']\n",
    "  date=video_details['items'][0]['snippet']['publishedAt']\n",
    "  description=video_details['items'][0]['snippet']['description']\n",
    "\n",
    "\n",
    "  ids.append(id)\n",
    "  titles.append(title)\n",
    "  dates.append(date)\n",
    "  descriptions.append(description)\n",
    "\n",
    "vid_details_df_1 = pd.DataFrame({'video_title': titles, 'video_id': ids, 'published_date': dates, 'description': descriptions})\n"
   ]
  },
  {
   "cell_type": "code",
   "execution_count": null,
   "metadata": {
    "id": "6oKmo--Eh07T"
   },
   "outputs": [],
   "source": [
    "#build title, id, date reference df (entries 2000-3000)\n",
    "ids, titles, dates, descriptions = [], [], [], []\n",
    "for vidid in list_of_vids[2000:3000]:\n",
    "  video_details = build(\"youtube\", \"v3\", developerKey=api_key).videos().list(\n",
    "        part=\"contentDetails, snippet\",\n",
    "        id=vidid\n",
    "        ).execute()\n",
    "  id=video_details['items'][0]['id']\n",
    "  title=video_details['items'][0]['snippet']['title']\n",
    "  date=video_details['items'][0]['snippet']['publishedAt']\n",
    "  description=video_details['items'][0]['snippet']['description']\n",
    "\n",
    "\n",
    "  ids.append(id)\n",
    "  titles.append(title)\n",
    "  dates.append(date)\n",
    "  descriptions.append(description)\n",
    "\n",
    "vid_details_df_2 = pd.DataFrame({'video_title': titles, 'video_id': ids, 'published_date': dates, 'description': descriptions})\n"
   ]
  },
  {
   "cell_type": "code",
   "execution_count": null,
   "metadata": {
    "id": "0G9dzAq9h5kS"
   },
   "outputs": [],
   "source": [
    "#build title, id, date reference df (entries 3000-4000)\n",
    "ids, titles, dates, descriptions = [], [], [], []\n",
    "for vidid in list_of_vids[3000:4000]:\n",
    "  video_details = build(\"youtube\", \"v3\", developerKey=api_key).videos().list(\n",
    "        part=\"contentDetails, snippet\",\n",
    "        id=vidid\n",
    "        ).execute()\n",
    "  id=video_details['items'][0]['id']\n",
    "  title=video_details['items'][0]['snippet']['title']\n",
    "  date=video_details['items'][0]['snippet']['publishedAt']\n",
    "  description=video_details['items'][0]['snippet']['description']\n",
    "\n",
    "\n",
    "  ids.append(id)\n",
    "  titles.append(title)\n",
    "  dates.append(date)\n",
    "  descriptions.append(description)\n",
    "\n",
    "vid_details_df_3 = pd.DataFrame({'video_title': titles, 'video_id': ids, 'published_date': dates, 'description': descriptions})\n"
   ]
  },
  {
   "cell_type": "code",
   "execution_count": null,
   "metadata": {
    "id": "vl1kyqAviAaz"
   },
   "outputs": [],
   "source": [
    "#build title, id, date reference df (entries 4000-5000)\n",
    "ids, titles, dates, descriptions = [], [], [], []\n",
    "for vidid in list_of_vids[4000:5000]:\n",
    "  video_details = build(\"youtube\", \"v3\", developerKey=api_key).videos().list(\n",
    "        part=\"contentDetails, snippet\",\n",
    "        id=vidid\n",
    "        ).execute()\n",
    "  id=video_details['items'][0]['id']\n",
    "  title=video_details['items'][0]['snippet']['title']\n",
    "  date=video_details['items'][0]['snippet']['publishedAt']\n",
    "  description=video_details['items'][0]['snippet']['description']\n",
    "\n",
    "\n",
    "  ids.append(id)\n",
    "  titles.append(title)\n",
    "  dates.append(date)\n",
    "  descriptions.append(description)\n",
    "\n",
    "vid_details_df_4 = pd.DataFrame({'video_title': titles, 'video_id': ids, 'published_date': dates, 'description': descriptions})\n"
   ]
  },
  {
   "cell_type": "code",
   "execution_count": null,
   "metadata": {
    "id": "UarVxkUaiG-e"
   },
   "outputs": [],
   "source": [
    "#build title, id, date reference df (entries 5000-6000)\n",
    "ids, titles, dates, descriptions = [], [], [], []\n",
    "for vidid in list_of_vids[5000:6000]:\n",
    "  video_details = build(\"youtube\", \"v3\", developerKey=api_key).videos().list(\n",
    "        part=\"contentDetails, snippet\",\n",
    "        id=vidid\n",
    "        ).execute()\n",
    "  id=video_details['items'][0]['id']\n",
    "  title=video_details['items'][0]['snippet']['title']\n",
    "  date=video_details['items'][0]['snippet']['publishedAt']\n",
    "  description=video_details['items'][0]['snippet']['description']\n",
    "\n",
    "\n",
    "  ids.append(id)\n",
    "  titles.append(title)\n",
    "  dates.append(date)\n",
    "  descriptions.append(description)\n",
    "\n",
    "vid_details_df_5 = pd.DataFrame({'video_title': titles, 'video_id': ids, 'published_date': dates, 'description': descriptions})\n"
   ]
  },
  {
   "cell_type": "code",
   "execution_count": null,
   "metadata": {
    "id": "kYjwYHb6iLPt"
   },
   "outputs": [],
   "source": [
    "#build title, id, date reference df (entries 6000-7000)\n",
    "ids, titles, dates, descriptions = [], [], [], []\n",
    "for vidid in list_of_vids[6000:7000]:\n",
    "  video_details = build(\"youtube\", \"v3\", developerKey=api_key).videos().list(\n",
    "        part=\"contentDetails, snippet\",\n",
    "        id=vidid\n",
    "        ).execute()\n",
    "  id=video_details['items'][0]['id']\n",
    "  title=video_details['items'][0]['snippet']['title']\n",
    "  date=video_details['items'][0]['snippet']['publishedAt']\n",
    "  description=video_details['items'][0]['snippet']['description']\n",
    "\n",
    "\n",
    "  ids.append(id)\n",
    "  titles.append(title)\n",
    "  dates.append(date)\n",
    "  descriptions.append(description)\n",
    "\n",
    "vid_details_df_6 = pd.DataFrame({'video_title': titles, 'video_id': ids, 'published_date': dates, 'description': descriptions})\n"
   ]
  },
  {
   "cell_type": "code",
   "execution_count": null,
   "metadata": {
    "id": "v54Wd7IGiPJW"
   },
   "outputs": [],
   "source": [
    "#build title, id, date reference df (entries 7000-8000)\n",
    "ids, titles, dates, descriptions = [], [], [], []\n",
    "for vidid in list_of_vids[7000:8000]:\n",
    "  video_details = build(\"youtube\", \"v3\", developerKey=api_key).videos().list(\n",
    "        part=\"contentDetails, snippet\",\n",
    "        id=vidid\n",
    "        ).execute()\n",
    "  id=video_details['items'][0]['id']\n",
    "  title=video_details['items'][0]['snippet']['title']\n",
    "  date=video_details['items'][0]['snippet']['publishedAt']\n",
    "  description=video_details['items'][0]['snippet']['description']\n",
    "\n",
    "\n",
    "  ids.append(id)\n",
    "  titles.append(title)\n",
    "  dates.append(date)\n",
    "  descriptions.append(description)\n",
    "\n",
    "vid_details_df_7 = pd.DataFrame({'video_title': titles, 'video_id': ids, 'published_date': dates, 'description': descriptions})\n"
   ]
  },
  {
   "cell_type": "code",
   "execution_count": null,
   "metadata": {
    "id": "EZ2PFXRyqZOb"
   },
   "outputs": [],
   "source": [
    "#build title, id, date reference df (entries 8000-9000)\n",
    "ids, titles, dates, descriptions = [], [], [], []\n",
    "for vidid in list_of_vids[8000:9000]:\n",
    "  video_details = build(\"youtube\", \"v3\", developerKey=api_key).videos().list(\n",
    "        part=\"contentDetails, snippet\",\n",
    "        id=vidid\n",
    "        ).execute()\n",
    "  id=video_details['items'][0]['id']\n",
    "  title=video_details['items'][0]['snippet']['title']\n",
    "  date=video_details['items'][0]['snippet']['publishedAt']\n",
    "  description=video_details['items'][0]['snippet']['description']\n",
    "\n",
    "\n",
    "  ids.append(id)\n",
    "  titles.append(title)\n",
    "  dates.append(date)\n",
    "  descriptions.append(description)\n",
    "\n",
    "vid_details_df_8 = pd.DataFrame({'video_title': titles, 'video_id': ids, 'published_date': dates, 'description': descriptions})"
   ]
  },
  {
   "cell_type": "code",
   "execution_count": null,
   "metadata": {
    "id": "OKvkf289qeEK"
   },
   "outputs": [],
   "source": [
    "#build title, id, date reference df (entries 9000-10000)\n",
    "ids, titles, dates, descriptions = [], [], [], []\n",
    "for vidid in list_of_vids[9000:10000]:\n",
    "  video_details = build(\"youtube\", \"v3\", developerKey=api_key).videos().list(\n",
    "        part=\"contentDetails, snippet\",\n",
    "        id=vidid\n",
    "        ).execute()\n",
    "  id=video_details['items'][0]['id']\n",
    "  title=video_details['items'][0]['snippet']['title']\n",
    "  date=video_details['items'][0]['snippet']['publishedAt']\n",
    "  description=video_details['items'][0]['snippet']['description']\n",
    "\n",
    "\n",
    "  ids.append(id)\n",
    "  titles.append(title)\n",
    "  dates.append(date)\n",
    "  descriptions.append(description)\n",
    "\n",
    "vid_details_df_9 = pd.DataFrame({'video_title': titles, 'video_id': ids, 'published_date': dates, 'description': descriptions})"
   ]
  },
  {
   "cell_type": "code",
   "execution_count": null,
   "metadata": {
    "id": "KyEBdhw9q_xW"
   },
   "outputs": [],
   "source": [
    "#build title, id, date reference df (entries 10000-10658)\n",
    "ids, titles, dates, descriptions = [], [], [], []\n",
    "\n",
    "for vidid in list_of_vids[10000:(len(list_of_vids)+1)]:\n",
    "  video_details = build(\"youtube\", \"v3\", developerKey=api_key).videos().list(\n",
    "        part=\"contentDetails, snippet\",\n",
    "        id=vidid\n",
    "        ).execute()\n",
    "  id=video_details['items'][0]['id']\n",
    "  title=video_details['items'][0]['snippet']['title']\n",
    "  date=video_details['items'][0]['snippet']['publishedAt']\n",
    "  description=video_details['items'][0]['snippet']['description']\n",
    "\n",
    "  ids.append(id)\n",
    "  titles.append(title)\n",
    "  dates.append(date)\n",
    "  descriptions.append(description)\n",
    "\n",
    "vid_details_df_10 = pd.DataFrame({'video_title': titles, 'video_id': ids, 'published_date': dates, 'description': descriptions})"
   ]
  },
  {
   "cell_type": "code",
   "execution_count": null,
   "metadata": {
    "id": "VHTRY0OfbRjs"
   },
   "outputs": [],
   "source": [
    "#consolidate into a single df with all the video details and save to csv\n",
    "vid_details_df_final = vid_details_df.append([vid_details_df_1,\n",
    "                                              vid_details_df_2,\n",
    "                                              vid_details_df_3,\n",
    "                                              vid_details_df_4,\n",
    "                                              vid_details_df_5,\n",
    "                                              vid_details_df_6,\n",
    "                                              vid_details_df_7,\n",
    "                                              vid_details_df_8,\n",
    "                                              vid_details_df_9,\n",
    "                                              vid_details_df_10], ignore_index=True)\n",
    "vid_details_df_final.to_csv(\"vidid_reference.csv\")\n"
   ]
  },
  {
   "cell_type": "code",
   "execution_count": null,
   "metadata": {
    "id": "9IDyYWn0wdWe"
   },
   "outputs": [],
   "source": [
    "#full dataframe with video IDs and information\n",
    "colbert_df = pd.merge(left = dataframe, right = vid_details_df_final, left_on = \"vid_id\", right_on = \"video_id\", how = \"left\")"
   ]
  },
  {
   "cell_type": "code",
   "execution_count": null,
   "metadata": {
    "id": "MmlMBnW3xFzC"
   },
   "outputs": [],
   "source": [
    "colbert_df.head(2)"
   ]
  },
  {
   "cell_type": "code",
   "execution_count": null,
   "metadata": {
    "id": "Z-0KhskCx6EY"
   },
   "outputs": [],
   "source": [
    "#create df with transcripts\n",
    "transcript_list = []\n",
    "for i in colbert_df[\"vid_id\"]:\n",
    "  transcript_list.append(i, colbert_transcripts_processed[i])"
   ]
  },
  {
   "cell_type": "code",
   "execution_count": null,
   "metadata": {
    "id": "JwrnN1FkRncE"
   },
   "outputs": [],
   "source": [
    "for i in colbert_df.vid_id:\n",
    "  for j in colbert_transcripts_processed:\n",
    "    if i == j:\n",
    "      colbert_df.loc[colbert_df.vid_id == j, \"transcripts\"] = colbert_transcripts_processed[j]\n"
   ]
  },
  {
   "cell_type": "code",
   "execution_count": null,
   "metadata": {
    "id": "AxyzzziEUXco"
   },
   "outputs": [],
   "source": [
    "#colbert_df.to_csv(\"all_data_colbert.csv\")"
   ]
  },
  {
   "cell_type": "code",
   "execution_count": null,
   "metadata": {
    "id": "fBANmrUHtCRZ"
   },
   "outputs": [],
   "source": [
    "import pandas as pd"
   ]
  },
  {
   "cell_type": "code",
   "execution_count": null,
   "metadata": {
    "id": "a6oTZzvkW8vb"
   },
   "outputs": [],
   "source": [
    "colbert_df = pd.read_csv(\"all_data_colbert.csv\", index_col=[0])"
   ]
  },
  {
   "cell_type": "code",
   "execution_count": null,
   "metadata": {
    "id": "EuAcosZsc0V0"
   },
   "outputs": [],
   "source": [
    "colbert_df.shape"
   ]
  },
  {
   "cell_type": "code",
   "execution_count": null,
   "metadata": {
    "id": "6aoH7wT5XKja"
   },
   "outputs": [],
   "source": [
    "colbert_df.head(2)"
   ]
  },
  {
   "cell_type": "markdown",
   "metadata": {
    "id": "B7Uci7usstB5"
   },
   "source": [
    "### Looking at Celebrity Demographics\n",
    "\n"
   ]
  },
  {
   "cell_type": "code",
   "execution_count": null,
   "metadata": {
    "id": "5fFPKG-IAhRn"
   },
   "outputs": [],
   "source": [
    "celebrity_reference = pd.read_csv(\"Colbert Questionert - Sheet4.csv\")"
   ]
  },
  {
   "cell_type": "code",
   "execution_count": null,
   "metadata": {
    "id": "eS1gEkasHTp_"
   },
   "outputs": [],
   "source": [
    "celebrities = celebrity_reference.drop_duplicates()"
   ]
  },
  {
   "cell_type": "code",
   "execution_count": null,
   "metadata": {
    "id": "PbHHa79teZ3b"
   },
   "outputs": [],
   "source": [
    "#create name hashtags\n",
    "celebrities[\"hash_name\"] = \"#\"+celebrities[\"Guest(s)\"].str.replace(\" \", \"\")"
   ]
  },
  {
   "cell_type": "code",
   "execution_count": null,
   "metadata": {
    "id": "Emr3tduFYmZj"
   },
   "outputs": [],
   "source": [
    "celebrities.shape"
   ]
  },
  {
   "cell_type": "code",
   "execution_count": null,
   "metadata": {
    "id": "R2st9N1nZ53G"
   },
   "outputs": [],
   "source": [
    "colbert_df.dropna(inplace=True)"
   ]
  },
  {
   "cell_type": "code",
   "execution_count": null,
   "metadata": {
    "id": "Z29kjDbZg1xH"
   },
   "outputs": [],
   "source": [
    "genders = []\n",
    "occuptions = []\n",
    "for i, v in colbert_df.iterrows():\n",
    "  for j, r in celebrities.iterrows():\n",
    "    if (r[\"hash_name\"] in v['description']) and (r[\"Guest(s)\"] in v['video_title']) or (r[\"Guest(s)\"] in v['transcripts'][:200]):\n",
    "      genders.append((v['video_title'],r[\"Guest(s)\"],r[\"Gender\"], r[\"Occupation\"]))\n",
    "genders_ = pd.DataFrame(genders, columns = [\"video_title\", \"Name\", \"gender\", \"occupation\"])\n",
    "colbert_df = pd.merge(left = colbert_df, right = genders_, left_on = \"video_title\", right_on = \"video_title\", how = \"left\")"
   ]
  },
  {
   "cell_type": "code",
   "execution_count": null,
   "metadata": {
    "id": "SkTRbb9uaAR9"
   },
   "outputs": [],
   "source": [
    "#data count for analysis (# of matches)\n",
    "colbert_df.shape[0] - max(colbert_df.isna().sum())"
   ]
  },
  {
   "cell_type": "code",
   "execution_count": null,
   "metadata": {
    "id": "1LKnVX9vHwWK"
   },
   "outputs": [],
   "source": [
    "celebrities[celebrities[\"Guest(s)\"]==\"Matt Damon\"]"
   ]
  },
  {
   "cell_type": "code",
   "execution_count": null,
   "metadata": {
    "id": "FYH9wQj_dZEm"
   },
   "outputs": [],
   "source": [
    "colbert_df.to_csv(\"final_dataset.csv\")"
   ]
  },
  {
   "cell_type": "code",
   "execution_count": null,
   "metadata": {
    "id": "4W5jShylHAf1"
   },
   "outputs": [],
   "source": [
    "colbert_df.drop(columns=[\"Name\", \"gender\", \"occupation\"], inplace=True)\n",
    "colbert_df.isna().sum()"
   ]
  },
  {
   "cell_type": "markdown",
   "metadata": {
    "id": "XuEhNSFTdnLy"
   },
   "source": [
    "### Celebrity Demographics for Questionnert Subset"
   ]
  },
  {
   "cell_type": "code",
   "execution_count": null,
   "metadata": {
    "id": "ooLqmZ9JFZe8"
   },
   "outputs": [],
   "source": [
    "genders = []\n",
    "occuptions = []\n",
    "for i, v in transcripts_playlist.iterrows():\n",
    "  for j, r in celebrities.iterrows():\n",
    "    if v['title_tail_1'] in r[\"Guest(s)\"]:\n",
    "      genders.append((v['title_tail_1'],r[\"Gender\"], r[\"Occupation\"]))\n",
    "genders_ = pd.DataFrame(genders, columns = [\"Name\", \"gender\", \"occupation\"])\n",
    "transcripts_playlist = pd.merge(left = transcripts_playlist, right = genders_, left_on = \"title_tail_1\", right_on = \"Name\", how = \"left\")"
   ]
  },
  {
   "cell_type": "code",
   "execution_count": null,
   "metadata": {
    "id": "J3eBsywXuyKu"
   },
   "outputs": [],
   "source": [
    "transcripts_playlist.drop_duplicates(subset = [\"title\"], inplace=True)"
   ]
  },
  {
   "cell_type": "code",
   "execution_count": null,
   "metadata": {
    "id": "jlFiwQHStGCZ"
   },
   "outputs": [],
   "source": [
    "transcripts_playlist[transcripts_playlist[\"occupation\"].isna()]"
   ]
  },
  {
   "cell_type": "code",
   "execution_count": null,
   "metadata": {
    "id": "3sAaUqX_wcai"
   },
   "outputs": [],
   "source": [
    "transcripts_playlist.loc[0,\"gender\"]= \"Male\"\n",
    "transcripts_playlist.loc[33,\"gender\"]= \"Male\"\n",
    "transcripts_playlist.loc[38,\"gender\"]= \"Female\"\n",
    "transcripts_playlist.loc[42,\"gender\"]= \"Male\"\n",
    "transcripts_playlist.loc[48,\"gender\"]= \"Male\"\n",
    "transcripts_playlist.loc[49,\"gender\"]= \"Male\"\n",
    "#transcripts_playlist.loc[51,\"gender\"]= \"Male\"\n",
    "transcripts_playlist.loc[52,\"gender\"]= \"Male\"\n",
    "transcripts_playlist.loc[63,\"gender\"]= \"Male\""
   ]
  },
  {
   "cell_type": "code",
   "execution_count": null,
   "metadata": {
    "id": "I0qX4MISxYxr"
   },
   "outputs": [],
   "source": [
    "transcripts_playlist.loc[0,\"occupation\"]= \"Musician\"\n",
    "transcripts_playlist.loc[48,\"occupation\"]= \"Host\"\n",
    "transcripts_playlist.loc[49,\"occupation\"]= \"Host\"\n",
    "#transcripts_playlist.loc[51,\"occupation\"]= \"Musician\""
   ]
  },
  {
   "cell_type": "code",
   "execution_count": null,
   "metadata": {
    "id": "3_Wj953IyiOu"
   },
   "outputs": [],
   "source": [
    "transcripts_playlist.loc[51,\"title_tail_1\"] = \"Tiffany Haddish\"\n",
    "transcripts_playlist.loc[51,\"gender\"] = \"Female\"\n",
    "transcripts_playlist.loc[51,\"Occupation\"] = \"Comedian\""
   ]
  },
  {
   "cell_type": "code",
   "execution_count": null,
   "metadata": {
    "id": "L2DEFkjDmUt5"
   },
   "outputs": [],
   "source": [
    "transcripts_playlist.drop([61], inplace=True)"
   ]
  },
  {
   "cell_type": "code",
   "execution_count": null,
   "metadata": {
    "id": "pQkR7rq4xwoT"
   },
   "outputs": [],
   "source": [
    "transcripts_playlist[\"gender\"].value_counts(normalize=True)"
   ]
  },
  {
   "cell_type": "code",
   "execution_count": null,
   "metadata": {
    "id": "Me4DpwJNzKwq"
   },
   "outputs": [],
   "source": [
    "transcripts_playlist[\"occupation\"].value_counts(normalize=True)"
   ]
  },
  {
   "cell_type": "markdown",
   "metadata": {
    "id": "QNXDd8pGvxTT"
   },
   "source": [
    "# Predicting role based on transcripts (Trying some models)"
   ]
  },
  {
   "cell_type": "code",
   "execution_count": null,
   "metadata": {
    "id": "lpzjZSYOv9zf"
   },
   "outputs": [],
   "source": [
    "#let's remove duplicate video IDs. We will keep multi part guests as separate entries\n",
    "#will do additional analysis on combined guests and word counts by gender/occupation/age as a separate analysis (will need to create a different df)"
   ]
  },
  {
   "cell_type": "code",
   "execution_count": null,
   "metadata": {
    "id": "UByP5Bsb1ugy"
   },
   "outputs": [],
   "source": [
    "import nltk\n",
    "from nltk.stem import WordNetLemmatizer"
   ]
  },
  {
   "cell_type": "code",
   "execution_count": null,
   "metadata": {
    "id": "pTZGtyrq49rX"
   },
   "outputs": [],
   "source": [
    "nltk.download('wordnet')"
   ]
  },
  {
   "cell_type": "code",
   "execution_count": null,
   "metadata": {
    "id": "dMydI0B02Qgn"
   },
   "outputs": [],
   "source": [
    "nltk.download(\"stopwords\")"
   ]
  },
  {
   "cell_type": "code",
   "execution_count": null,
   "metadata": {
    "id": "3-M4btow0ICj"
   },
   "outputs": [],
   "source": [
    "#stopwords\n",
    "stops = nltk.corpus.stopwords.words('english')\n",
    "newStopWords = ['applause','back','welcome','stephen','everybody','break','cheering','colbert']\n",
    "stops.extend(newStopWords)"
   ]
  },
  {
   "cell_type": "code",
   "execution_count": null,
   "metadata": {
    "id": "O_b0J99hv1qX"
   },
   "outputs": [],
   "source": [
    "#create lemmatized text\n",
    "\n",
    "def text_process(text):\n",
    "  w_tokenizer = nltk.tokenize.WhitespaceTokenizer()\n",
    "  lemmatizer = WordNetLemmatizer()\n",
    "\n",
    "  words = [x.lower() for x in text.split() if (x not in stops) and (len(x)>1) and (type(x) == str)]\n",
    "  sentence = \" \".join(words)\n",
    "  splits = [lemmatizer.lemmatize(w) for w in w_tokenizer.tokenize(sentence)]\n",
    "  list_of_sentences = \" \".join(splits)\n",
    "\n",
    "  return list_of_sentences"
   ]
  },
  {
   "cell_type": "code",
   "execution_count": null,
   "metadata": {
    "id": "ERaqWRgv59s0"
   },
   "outputs": [],
   "source": [
    "#filter out nulls\n",
    "colbert_df_filtered = colbert_df.dropna()"
   ]
  },
  {
   "cell_type": "code",
   "execution_count": null,
   "metadata": {
    "id": "PDQJkmvAzuOE"
   },
   "outputs": [],
   "source": [
    "colbert_df_filtered[\"revised_transcripts\"]=colbert_df_filtered[\"transcripts\"]"
   ]
  },
  {
   "cell_type": "code",
   "execution_count": null,
   "metadata": {
    "id": "7vMS_Efw8rLd"
   },
   "outputs": [],
   "source": [
    "colbert_df_filtered[\"revised_transcripts\"] = colbert_df_filtered[\"revised_transcripts\"].str.lower()"
   ]
  },
  {
   "cell_type": "code",
   "execution_count": null,
   "metadata": {
    "id": "appnheZ084pr"
   },
   "outputs": [],
   "source": [
    "colbert_df_filtered[\"revised_transcripts_\"] = colbert_df_filtered[\"revised_transcripts\"]"
   ]
  },
  {
   "cell_type": "code",
   "execution_count": null,
   "metadata": {
    "id": "p6Ugarig0ZQi"
   },
   "outputs": [],
   "source": [
    "import re"
   ]
  },
  {
   "cell_type": "code",
   "execution_count": null,
   "metadata": {
    "id": "-rhUWUd9yBX0"
   },
   "outputs": [],
   "source": [
    "common_phrases=[\"\\n\",\"welcome back everybody\", \"we'll be right back\",\n",
    " \"we're back\", \"we are back\", \"ed sullivan theater\",\n",
    " \"ladies and gentlemen\", \"hey everybody\", \"give it up for\"]\n",
    "\n",
    "for j, row in colbert_df_filtered.head(2).iterrows():\n",
    "  for i in common_phrases:\n",
    "    row[\"revised_transcripts_\"] = row[\"revised_transcripts\"].replace(i, \"\")\n"
   ]
  },
  {
   "cell_type": "code",
   "execution_count": null,
   "metadata": {
    "id": "I1pQFIV6yyws"
   },
   "outputs": [],
   "source": [
    "df_lemm_transcripts = colbert_df_filtered[\"transcripts\"].apply(text_process)"
   ]
  },
  {
   "cell_type": "code",
   "execution_count": null,
   "metadata": {
    "id": "JhemlRIj5Lmr"
   },
   "outputs": [],
   "source": [
    "#map occupation to category\n",
    "categories = {\"Actor\":0, \"Musician\":1,\n",
    "              \"Comedian\":0, \"Host\":1,\n",
    "              \"Politician\":1, \"Personality\":1,\n",
    "              \"Athlete\":1}"
   ]
  },
  {
   "cell_type": "code",
   "execution_count": null,
   "metadata": {
    "id": "FTAGPTi38Pwp"
   },
   "outputs": [],
   "source": [
    "colbert_df_filtered[\"y_cat\"] = colbert_df_filtered[\"occupation\"].map(categories)"
   ]
  },
  {
   "cell_type": "code",
   "execution_count": null,
   "metadata": {
    "id": "0vsi15H5U3gN"
   },
   "outputs": [],
   "source": [
    "colbert_df_filtered[\"y_cat\"].value_counts(normalize=True)"
   ]
  },
  {
   "cell_type": "code",
   "execution_count": null,
   "metadata": {
    "id": "oIWKL9ymV289"
   },
   "outputs": [],
   "source": [
    "ytranscript.shape"
   ]
  },
  {
   "cell_type": "code",
   "execution_count": null,
   "metadata": {
    "id": "D9mLw7FQH6ZH"
   },
   "outputs": [],
   "source": [
    "colbert_df_filtered.dropna(inplace=True)"
   ]
  },
  {
   "cell_type": "code",
   "execution_count": null,
   "metadata": {
    "id": "bGaIbD335GS8"
   },
   "outputs": [],
   "source": [
    "ytranscript = colbert_df_filtered[\"y_cat\"]"
   ]
  },
  {
   "cell_type": "code",
   "execution_count": null,
   "metadata": {
    "id": "yXLQLkVmyze2"
   },
   "outputs": [],
   "source": [
    "X_train, X_test, y_train, y_test = train_test_split(df_lemm_transcripts,\n",
    "                                                    ytranscript,\n",
    "                                                    random_state=42, stratify=ytranscript)"
   ]
  },
  {
   "cell_type": "code",
   "execution_count": null,
   "metadata": {
    "id": "_UgpSm5Ay5nc"
   },
   "outputs": [],
   "source": [
    "pipe_params_cvec = {\n",
    "    'cvec__max_features' : [5000],\n",
    "    'cvec__min_df' : [2],\n",
    "    'cvec__max_df' : [0.9, 0.95],\n",
    "    'cvec__ngram_range' : [(1,1), (1, 2), (2,2)],\n",
    "    'cvec__stop_words' : [stops]\n",
    "}"
   ]
  },
  {
   "cell_type": "code",
   "execution_count": null,
   "metadata": {
    "id": "QGbVpjlFy8fI"
   },
   "outputs": [],
   "source": [
    "pipe_cvec_logr_transcript = Pipeline([\n",
    "    ('cvec',CountVectorizer()),\n",
    "    ('logr', LogisticRegressionCV(solver='liblinear'))\n",
    "])"
   ]
  },
  {
   "cell_type": "code",
   "execution_count": null,
   "metadata": {
    "id": "ISsa6dBozAuI"
   },
   "outputs": [],
   "source": [
    "gs_transcript_cvec_logr = GridSearchCV(pipe_cvec_logr_transcript,\n",
    "                pipe_params_cvec,\n",
    "                  cv = 5)"
   ]
  },
  {
   "cell_type": "code",
   "execution_count": null,
   "metadata": {
    "id": "XdsNa_-RzDXg"
   },
   "outputs": [],
   "source": [
    "gs_transcript_cvec_logr.fit(X_train, y_train)\n"
   ]
  },
  {
   "cell_type": "code",
   "execution_count": null,
   "metadata": {
    "id": "ld7MsJ5Tzbxk"
   },
   "outputs": [],
   "source": [
    "gs_transcript_cvec_logr_preds = gs_transcript_cvec_logr.predict(X_test)\n"
   ]
  },
  {
   "cell_type": "code",
   "execution_count": null,
   "metadata": {
    "id": "IquT7iE_E5hM"
   },
   "outputs": [],
   "source": [
    "def evaluation(name_of_the_model, y_test, preds, gs_model, X_train, X_test):\n",
    "    ## find the confusion matrix\n",
    "    cm = confusion_matrix(y_test, preds)\n",
    "    tp = cm[1][1]; #True positives\n",
    "    tn = cm[0][0]; #True negatives\n",
    "    fp = cm[0][1]; #False positives\n",
    "    fn = cm[1][0]; #False negatives\n",
    "\n",
    "    #Calculate Sensitivity, Specificity, Precision, and F1_Score\n",
    "\n",
    "    Sensitivity = round(tp/(tp + fn),3)\n",
    "    Specificity = round(tn/(tn + fp),3)\n",
    "    Precision = round(tp/(tp + fp),3)\n",
    "    F1_Score = round(2 * (Precision * Sensitivity) / (Precision + Sensitivity),3)\n",
    "\n",
    "    #Model scores for train and test\n",
    "\n",
    "    train_score = round(gs_model.score(X_train, y_train),3)\n",
    "    test_score = round(gs_model.score(X_test, y_test),3)\n",
    "\n",
    "    #Create a dataframe to compare the results\n",
    "    df = pd.DataFrame(\n",
    "        {'Model' : name_of_the_model,\n",
    "        'Score on train': train_score ,\n",
    "        'Score on test': test_score,\n",
    "         'Sensitivity': Sensitivity,\n",
    "         'Specificity': Specificity,\n",
    "         'Precision' : Precision,\n",
    "         'F1 Score' : F1_Score\n",
    "        },index=[0]\n",
    "    )\n",
    "\n",
    "    return df #Display the dataframe"
   ]
  },
  {
   "cell_type": "code",
   "execution_count": null,
   "metadata": {
    "id": "Ckx_d4pizv8-"
   },
   "outputs": [],
   "source": [
    "logistic_cvec_transcript = evaluation(\"Logistical Regression CVEC - Transcripts\", y_test,\n",
    "                                      gs_transcript_cvec_logr_preds, gs_transcript_cvec_logr,\n",
    "                                      X_train, X_test)\n"
   ]
  },
  {
   "cell_type": "code",
   "execution_count": null,
   "metadata": {
    "id": "qDmNPAppzzDy"
   },
   "outputs": [],
   "source": [
    "logistic_cvec_transcript"
   ]
  },
  {
   "cell_type": "code",
   "execution_count": null,
   "metadata": {
    "id": "kzE9jJaXKQ34"
   },
   "outputs": [],
   "source": [
    "ytranscript.value_counts(normalize=True)"
   ]
  },
  {
   "cell_type": "markdown",
   "metadata": {
    "id": "1EFSaEuHSsEk"
   },
   "source": [
    "With many classes, and significant imbalance, let's look at KNN"
   ]
  },
  {
   "cell_type": "code",
   "execution_count": null,
   "metadata": {
    "id": "2bOr6dv7Sra8"
   },
   "outputs": [],
   "source": [
    "from sklearn.neighbors import KNeighborsClassifier"
   ]
  },
  {
   "cell_type": "code",
   "execution_count": null,
   "metadata": {
    "id": "wueAg9R1sY5b"
   },
   "outputs": [],
   "source": [
    "from sklearn.neighbors import KNeighborsClassifier"
   ]
  },
  {
   "cell_type": "code",
   "execution_count": null,
   "metadata": {
    "id": "iHd0MClUvjm1"
   },
   "outputs": [],
   "source": [
    "pipe_params_cvec = {\n",
    "    'cvec__max_features' : [5000],\n",
    "    'cvec__min_df' : [2],\n",
    "    'cvec__max_df' : [0.9, 0.95],\n",
    "    'cvec__ngram_range' : [(1,1), (1, 2), (2,2)],\n",
    "    'cvec__stop_words' : [stops]\n",
    "}"
   ]
  },
  {
   "cell_type": "code",
   "execution_count": null,
   "metadata": {
    "id": "SdAtJ6Syv6jY"
   },
   "outputs": [],
   "source": [
    "pipe_cvec_knn_transcript = Pipeline([\n",
    "    ('cvec',CountVectorizer()),\n",
    "    ('knn', KNeighborsClassifier())\n",
    "])"
   ]
  },
  {
   "cell_type": "code",
   "execution_count": null,
   "metadata": {
    "id": "1Om7FuCJwBi3"
   },
   "outputs": [],
   "source": [
    "gs_transcript_cvec_knn = GridSearchCV(pipe_cvec_knn_transcript,\n",
    "                pipe_params_cvec,\n",
    "                  cv = 5)"
   ]
  },
  {
   "cell_type": "code",
   "execution_count": null,
   "metadata": {
    "id": "1q-_JZI_wIEB"
   },
   "outputs": [],
   "source": [
    "gs_transcript_cvec_knn.fit(X_train, y_train)"
   ]
  },
  {
   "cell_type": "code",
   "execution_count": null,
   "metadata": {
    "id": "2-jVm654wLIv"
   },
   "outputs": [],
   "source": [
    "gs_transcript_cvec_knn_preds = gs_transcript_cvec_knn.predict(X_test)\n"
   ]
  },
  {
   "cell_type": "code",
   "execution_count": null,
   "metadata": {
    "id": "H-3o_99_wPtB"
   },
   "outputs": [],
   "source": [
    "knn_cvec_transcript = evaluation(\"KNN CVEC - Transcripts\", y_test,\n",
    "                                      gs_transcript_cvec_knn_preds, gs_transcript_cvec_knn,\n",
    "                                      X_train, X_test)\n",
    "knn_cvec_transcript"
   ]
  },
  {
   "cell_type": "markdown",
   "metadata": {
    "id": "KBaC16X0xJNG"
   },
   "source": [
    "Random Forest"
   ]
  },
  {
   "cell_type": "code",
   "execution_count": null,
   "metadata": {
    "id": "4AItNYJ5xKPT"
   },
   "outputs": [],
   "source": [
    "pipe_cvec_rf_transcript = Pipeline([\n",
    "    ('cvec',CountVectorizer()),\n",
    "    ('logr', RandomForestClassifier())\n",
    "])"
   ]
  },
  {
   "cell_type": "code",
   "execution_count": null,
   "metadata": {
    "id": "MJjFi6zwxKPT"
   },
   "outputs": [],
   "source": [
    "gs_transcript_cvec_rf = GridSearchCV(pipe_cvec_rf_transcript,\n",
    "                pipe_params_cvec,\n",
    "                  cv = 5)"
   ]
  },
  {
   "cell_type": "code",
   "execution_count": null,
   "metadata": {
    "id": "lKHOBLZlxKPU"
   },
   "outputs": [],
   "source": [
    "gs_transcript_cvec_rf.fit(X_train, y_train)\n"
   ]
  },
  {
   "cell_type": "code",
   "execution_count": null,
   "metadata": {
    "id": "MQ8Fw4ohxKPU"
   },
   "outputs": [],
   "source": [
    "gs_transcript_cvec_rf_preds = gs_transcript_cvec_rf.predict(X_test)\n"
   ]
  },
  {
   "cell_type": "code",
   "execution_count": null,
   "metadata": {
    "id": "3Yr9uB9RxPEe"
   },
   "outputs": [],
   "source": [
    "rf_cvec_transcript = evaluation(\"Random Forest CVEC - Transcripts\", y_test,\n",
    "                                      gs_transcript_cvec_rf_preds, gs_transcript_cvec_rf,\n",
    "                                      X_train, X_test)\n",
    "rf_cvec_transcript"
   ]
  },
  {
   "cell_type": "markdown",
   "metadata": {
    "id": "PYqS1Os4XRQq"
   },
   "source": [
    "Boosting"
   ]
  },
  {
   "cell_type": "code",
   "execution_count": null,
   "metadata": {
    "id": "_pcF2MKDW-sQ"
   },
   "outputs": [],
   "source": [
    "pipe_abc = Pipeline([\n",
    "    ('cvec', CountVectorizer()),\n",
    "    ('ada', AdaBoostClassifier(random_state = 42,estimator=RandomForestClassifier()))\n",
    "])"
   ]
  },
  {
   "cell_type": "markdown",
   "metadata": {
    "id": "VbNIHIH9Wp3W"
   },
   "source": [
    "Let's look at what the guests talked about"
   ]
  },
  {
   "cell_type": "code",
   "execution_count": null,
   "metadata": {
    "id": "eDUzgv-Lac9t"
   },
   "outputs": [],
   "source": [
    "transcripts_lemmed_['occupation'].value_counts()"
   ]
  },
  {
   "cell_type": "code",
   "execution_count": null,
   "metadata": {
    "id": "6KqoQEVsWpl3"
   },
   "outputs": [],
   "source": [
    "cvec = CountVectorizer(ngram_range=(3, 3), stop_words=stops)\n",
    "cvec.fit(df_lemm_transcripts)\n",
    "cvec_transform = cvec.transform(df_lemm_transcripts)\n",
    "transcripts_lemmed = pd.DataFrame(cvec_transform.todense(), columns=cvec.get_feature_names_out())"
   ]
  },
  {
   "cell_type": "code",
   "execution_count": null,
   "metadata": {
    "id": "kZPwr6IRW2zn"
   },
   "outputs": [],
   "source": [
    "transcripts_lemmed_ = pd.merge(transcripts_lemmed, colbert_df_filtered[\"occupation\"], left_index=True, right_index=True)"
   ]
  },
  {
   "cell_type": "code",
   "execution_count": null,
   "metadata": {
    "id": "HvFoy5DSXjpW"
   },
   "outputs": [],
   "source": [
    "fig, axes = plt.subplots(6, 1, figsize=(10, 14), tight_layout=True)\n",
    "\n",
    "(transcripts_lemmed_[transcripts_lemmed_['occupation'] == \"Actor\"]\n",
    "    .drop(columns=['occupation'])\n",
    "    .sum()\n",
    "    .sort_values(ascending=False)\n",
    "    .head(15)\n",
    "    .plot(kind='barh', title='Top Trigrams for Transcripts - Actor', color='#004065', fontsize=8, ax=axes[0])).invert_yaxis();\n",
    "\n",
    "(transcripts_lemmed_[transcripts_lemmed_['occupation'] == \"Musician\"]\n",
    "    .drop(columns=['occupation'])\n",
    "    .sum()\n",
    "    .sort_values(ascending=False)\n",
    "    .head(15)\n",
    "    .plot(kind='barh', title='Top Trigrams for Transcripts - Musician', color='#004065', fontsize=8, ax=axes[1])).invert_yaxis();\n",
    "\n",
    "(transcripts_lemmed_[transcripts_lemmed_['occupation'] == \"Comedian\"]\n",
    "    .drop(columns=['occupation'])\n",
    "    .sum()\n",
    "    .sort_values(ascending=False)\n",
    "    .head(15)\n",
    "    .plot(kind='barh', title='Top Trigrams for Transcripts - Comedian', color='#004065', fontsize=8, ax=axes[2])).invert_yaxis();\n",
    "\n",
    "(transcripts_lemmed_[transcripts_lemmed_['occupation'] == \"Host\"]\n",
    "    .drop(columns=['occupation'])\n",
    "    .sum()\n",
    "    .sort_values(ascending=False)\n",
    "    .head(15)\n",
    "    .plot(kind='barh', title='Top Trigrams for Transcripts - Host', color='#004065', fontsize=8, ax=axes[3])).invert_yaxis();\n",
    "\n",
    "(transcripts_lemmed_[transcripts_lemmed_['occupation'] == \"Politician\"]\n",
    "    .drop(columns=['occupation'])\n",
    "    .sum()\n",
    "    .sort_values(ascending=False)\n",
    "    .head(15)\n",
    "    .plot(kind='barh', title='Top Trigrams for Transcripts - Politician', color='#004065', fontsize=8, ax=axes[4])).invert_yaxis();\n",
    "\n",
    "(transcripts_lemmed_[transcripts_lemmed_['occupation'] == \"Personality\"]\n",
    "    .drop(columns=['occupation'])\n",
    "    .sum()\n",
    "    .sort_values(ascending=False)\n",
    "    .head(15)\n",
    "    .plot(kind='barh', title='Top Trigrams for Transcripts - Personality', color='#004065', fontsize=8, ax=axes[5])).invert_yaxis();\n",
    "\n",
    "\n",
    "\n",
    "fig.suptitle('Transcript analysis (frequency of 3-word occurrence by guest role)', fontsize=16)\n",
    "plt.savefig('transcript_by_role.jpg');"
   ]
  },
  {
   "cell_type": "markdown",
   "metadata": {
    "id": "xHmpp4pQcd-X"
   },
   "source": [
    "Topic identification"
   ]
  },
  {
   "cell_type": "code",
   "execution_count": null,
   "metadata": {
    "id": "MyH3MvqHcg0B"
   },
   "outputs": [],
   "source": [
    "!pip install pyLDAvis -qq\n",
    "!pip install -qq -U gensim\n",
    "!pip install spacy -qq\n",
    "!python -m spacy download en_core_web_md -qq"
   ]
  },
  {
   "cell_type": "code",
   "execution_count": null,
   "metadata": {
    "id": "tjfj26HZhUmG"
   },
   "outputs": [],
   "source": [
    "import seaborn as sns\n",
    "sns.set()\n",
    "import spacy\n",
    "import pyLDAvis.gensim_models\n",
    "pyLDAvis.enable_notebook()# Visualise inside a notebook\n",
    "import en_core_web_md\n",
    "from gensim.corpora.dictionary import Dictionary\n",
    "from gensim.models import LdaMulticore\n",
    "from gensim.models import CoherenceModel"
   ]
  },
  {
   "cell_type": "code",
   "execution_count": null,
   "metadata": {
    "id": "VWJFfWxDh8OS"
   },
   "outputs": [],
   "source": [
    "nlp = en_core_web_md.load()\n",
    "# Tags I want to remove from the text\n",
    "removal= ['applause','back','welcome','stephen','everybody','break','cheering','colbert']\n",
    "tokens = []\n",
    "for summary in nlp.pipe(colbert_df_filtered[\"transcripts\"]):\n",
    "   proj_tok = [token.lemma_.lower() for token in summary if token.pos_ not in removal and not token.is_stop and token.is_alpha]\n",
    "   tokens.append(proj_tok)"
   ]
  },
  {
   "cell_type": "code",
   "execution_count": null,
   "metadata": {
    "id": "-Y2dvt3iiXRV"
   },
   "outputs": [],
   "source": [
    "colbert_df_filtered[\"tokens\"] = tokens\n",
    "colbert_df_filtered[\"tokens\"]"
   ]
  },
  {
   "cell_type": "code",
   "execution_count": null,
   "metadata": {
    "id": "93cAkinsjfcN"
   },
   "outputs": [],
   "source": [
    "dictionary = Dictionary(colbert_df_filtered['tokens'])"
   ]
  },
  {
   "cell_type": "code",
   "execution_count": null,
   "metadata": {
    "id": "omat6Iv3jnEw"
   },
   "outputs": [],
   "source": [
    "dictionary.filter_extremes(no_below=5, no_above=0.5, keep_n=1000)"
   ]
  },
  {
   "cell_type": "code",
   "execution_count": null,
   "metadata": {
    "id": "-YWYr15TjrIy"
   },
   "outputs": [],
   "source": [
    "corpus = [dictionary.doc2bow(doc) for doc in colbert_df_filtered['tokens']]"
   ]
  },
  {
   "cell_type": "code",
   "execution_count": null,
   "metadata": {
    "id": "6Ihv_uAij08Z"
   },
   "outputs": [],
   "source": [
    "lda_model = LdaMulticore(corpus=corpus, id2word=dictionary, iterations=10, num_topics=10, workers = 4, passes=10)"
   ]
  },
  {
   "cell_type": "code",
   "execution_count": null,
   "metadata": {
    "id": "UN_q8h_bCKHX"
   },
   "outputs": [],
   "source": [
    "!pip install pandas==1.5.3"
   ]
  },
  {
   "cell_type": "code",
   "execution_count": null,
   "metadata": {
    "id": "qEvUnz43D4Ej"
   },
   "outputs": [],
   "source": [
    "print(lda_model.print_topics())\n"
   ]
  },
  {
   "cell_type": "code",
   "execution_count": null,
   "metadata": {
    "id": "wvhpB93DBQp3"
   },
   "outputs": [],
   "source": [
    "lda_display = pyLDAvis.gensim_models.prepare(lda_model, corpus, dictionary)\n",
    "pyLDAvis.display(lda_display)"
   ]
  },
  {
   "cell_type": "code",
   "execution_count": null,
   "metadata": {
    "id": "aeRw0OAaBVPW"
   },
   "outputs": [],
   "source": [
    "colbert_df_filtered['topic'] = [sorted(lda_model[corpus][text])[0][0] for text in range(len(colbert_df_filtered['transcripts']))]"
   ]
  },
  {
   "cell_type": "code",
   "execution_count": null,
   "metadata": {
    "id": "wxVrRli3C1rs"
   },
   "outputs": [],
   "source": [
    "colbert_df_filtered"
   ]
  },
  {
   "cell_type": "markdown",
   "metadata": {
    "id": "63axYMCic46C"
   },
   "source": [
    "# Trying Shap"
   ]
  },
  {
   "cell_type": "code",
   "execution_count": null,
   "metadata": {
    "id": "ysgZZ_3ivYCp"
   },
   "outputs": [],
   "source": [
    "pip install torch"
   ]
  },
  {
   "cell_type": "code",
   "execution_count": null,
   "metadata": {
    "id": "kLAn11jPzl9r"
   },
   "outputs": [],
   "source": [
    "!pip install shap"
   ]
  },
  {
   "cell_type": "code",
   "execution_count": 93,
   "metadata": {
    "id": "Nbxk7vZcdA2g",
    "tags": []
   },
   "outputs": [],
   "source": [
    "import torch\n",
    "\n",
    "from transformers import AutoModelForSeq2SeqLM, AutoTokenizer\n",
    "\n",
    "#import shap"
   ]
  },
  {
   "cell_type": "code",
   "execution_count": 94,
   "metadata": {
    "id": "PaXefkqLsXXZ",
    "tags": []
   },
   "outputs": [
    {
     "ename": "AssertionError",
     "evalue": "Torch not compiled with CUDA enabled",
     "output_type": "error",
     "traceback": [
      "\u001b[0;31m---------------------------------------------------------------------------\u001b[0m",
      "\u001b[0;31mAssertionError\u001b[0m                            Traceback (most recent call last)",
      "Cell \u001b[0;32mIn[94], line 2\u001b[0m\n\u001b[1;32m      1\u001b[0m tokenizer \u001b[38;5;241m=\u001b[39m AutoTokenizer\u001b[38;5;241m.\u001b[39mfrom_pretrained(\u001b[38;5;124m\"\u001b[39m\u001b[38;5;124msshleifer/distilbart-xsum-12-6\u001b[39m\u001b[38;5;124m\"\u001b[39m)\n\u001b[0;32m----> 2\u001b[0m model \u001b[38;5;241m=\u001b[39m AutoModelForSeq2SeqLM\u001b[38;5;241m.\u001b[39mfrom_pretrained(\u001b[38;5;124m\"\u001b[39m\u001b[38;5;124msshleifer/distilbart-xsum-12-6\u001b[39m\u001b[38;5;124m\"\u001b[39m)\u001b[38;5;241m.\u001b[39mcuda()\n",
      "File \u001b[0;32m~/anaconda3/lib/python3.11/site-packages/torch/nn/modules/module.py:905\u001b[0m, in \u001b[0;36mModule.cuda\u001b[0;34m(self, device)\u001b[0m\n\u001b[1;32m    888\u001b[0m \u001b[38;5;28;01mdef\u001b[39;00m \u001b[38;5;21mcuda\u001b[39m(\u001b[38;5;28mself\u001b[39m: T, device: Optional[Union[\u001b[38;5;28mint\u001b[39m, device]] \u001b[38;5;241m=\u001b[39m \u001b[38;5;28;01mNone\u001b[39;00m) \u001b[38;5;241m-\u001b[39m\u001b[38;5;241m>\u001b[39m T:\n\u001b[1;32m    889\u001b[0m \u001b[38;5;250m    \u001b[39m\u001b[38;5;124mr\u001b[39m\u001b[38;5;124;03m\"\"\"Moves all model parameters and buffers to the GPU.\u001b[39;00m\n\u001b[1;32m    890\u001b[0m \n\u001b[1;32m    891\u001b[0m \u001b[38;5;124;03m    This also makes associated parameters and buffers different objects. So\u001b[39;00m\n\u001b[0;32m   (...)\u001b[0m\n\u001b[1;32m    903\u001b[0m \u001b[38;5;124;03m        Module: self\u001b[39;00m\n\u001b[1;32m    904\u001b[0m \u001b[38;5;124;03m    \"\"\"\u001b[39;00m\n\u001b[0;32m--> 905\u001b[0m     \u001b[38;5;28;01mreturn\u001b[39;00m \u001b[38;5;28mself\u001b[39m\u001b[38;5;241m.\u001b[39m_apply(\u001b[38;5;28;01mlambda\u001b[39;00m t: t\u001b[38;5;241m.\u001b[39mcuda(device))\n",
      "File \u001b[0;32m~/anaconda3/lib/python3.11/site-packages/torch/nn/modules/module.py:797\u001b[0m, in \u001b[0;36mModule._apply\u001b[0;34m(self, fn)\u001b[0m\n\u001b[1;32m    795\u001b[0m \u001b[38;5;28;01mdef\u001b[39;00m \u001b[38;5;21m_apply\u001b[39m(\u001b[38;5;28mself\u001b[39m, fn):\n\u001b[1;32m    796\u001b[0m     \u001b[38;5;28;01mfor\u001b[39;00m module \u001b[38;5;129;01min\u001b[39;00m \u001b[38;5;28mself\u001b[39m\u001b[38;5;241m.\u001b[39mchildren():\n\u001b[0;32m--> 797\u001b[0m         module\u001b[38;5;241m.\u001b[39m_apply(fn)\n\u001b[1;32m    799\u001b[0m     \u001b[38;5;28;01mdef\u001b[39;00m \u001b[38;5;21mcompute_should_use_set_data\u001b[39m(tensor, tensor_applied):\n\u001b[1;32m    800\u001b[0m         \u001b[38;5;28;01mif\u001b[39;00m torch\u001b[38;5;241m.\u001b[39m_has_compatible_shallow_copy_type(tensor, tensor_applied):\n\u001b[1;32m    801\u001b[0m             \u001b[38;5;66;03m# If the new tensor has compatible tensor type as the existing tensor,\u001b[39;00m\n\u001b[1;32m    802\u001b[0m             \u001b[38;5;66;03m# the current behavior is to change the tensor in-place using `.data =`,\u001b[39;00m\n\u001b[0;32m   (...)\u001b[0m\n\u001b[1;32m    807\u001b[0m             \u001b[38;5;66;03m# global flag to let the user control whether they want the future\u001b[39;00m\n\u001b[1;32m    808\u001b[0m             \u001b[38;5;66;03m# behavior of overwriting the existing tensor or not.\u001b[39;00m\n",
      "File \u001b[0;32m~/anaconda3/lib/python3.11/site-packages/torch/nn/modules/module.py:797\u001b[0m, in \u001b[0;36mModule._apply\u001b[0;34m(self, fn)\u001b[0m\n\u001b[1;32m    795\u001b[0m \u001b[38;5;28;01mdef\u001b[39;00m \u001b[38;5;21m_apply\u001b[39m(\u001b[38;5;28mself\u001b[39m, fn):\n\u001b[1;32m    796\u001b[0m     \u001b[38;5;28;01mfor\u001b[39;00m module \u001b[38;5;129;01min\u001b[39;00m \u001b[38;5;28mself\u001b[39m\u001b[38;5;241m.\u001b[39mchildren():\n\u001b[0;32m--> 797\u001b[0m         module\u001b[38;5;241m.\u001b[39m_apply(fn)\n\u001b[1;32m    799\u001b[0m     \u001b[38;5;28;01mdef\u001b[39;00m \u001b[38;5;21mcompute_should_use_set_data\u001b[39m(tensor, tensor_applied):\n\u001b[1;32m    800\u001b[0m         \u001b[38;5;28;01mif\u001b[39;00m torch\u001b[38;5;241m.\u001b[39m_has_compatible_shallow_copy_type(tensor, tensor_applied):\n\u001b[1;32m    801\u001b[0m             \u001b[38;5;66;03m# If the new tensor has compatible tensor type as the existing tensor,\u001b[39;00m\n\u001b[1;32m    802\u001b[0m             \u001b[38;5;66;03m# the current behavior is to change the tensor in-place using `.data =`,\u001b[39;00m\n\u001b[0;32m   (...)\u001b[0m\n\u001b[1;32m    807\u001b[0m             \u001b[38;5;66;03m# global flag to let the user control whether they want the future\u001b[39;00m\n\u001b[1;32m    808\u001b[0m             \u001b[38;5;66;03m# behavior of overwriting the existing tensor or not.\u001b[39;00m\n",
      "File \u001b[0;32m~/anaconda3/lib/python3.11/site-packages/torch/nn/modules/module.py:820\u001b[0m, in \u001b[0;36mModule._apply\u001b[0;34m(self, fn)\u001b[0m\n\u001b[1;32m    816\u001b[0m \u001b[38;5;66;03m# Tensors stored in modules are graph leaves, and we don't want to\u001b[39;00m\n\u001b[1;32m    817\u001b[0m \u001b[38;5;66;03m# track autograd history of `param_applied`, so we have to use\u001b[39;00m\n\u001b[1;32m    818\u001b[0m \u001b[38;5;66;03m# `with torch.no_grad():`\u001b[39;00m\n\u001b[1;32m    819\u001b[0m \u001b[38;5;28;01mwith\u001b[39;00m torch\u001b[38;5;241m.\u001b[39mno_grad():\n\u001b[0;32m--> 820\u001b[0m     param_applied \u001b[38;5;241m=\u001b[39m fn(param)\n\u001b[1;32m    821\u001b[0m should_use_set_data \u001b[38;5;241m=\u001b[39m compute_should_use_set_data(param, param_applied)\n\u001b[1;32m    822\u001b[0m \u001b[38;5;28;01mif\u001b[39;00m should_use_set_data:\n",
      "File \u001b[0;32m~/anaconda3/lib/python3.11/site-packages/torch/nn/modules/module.py:905\u001b[0m, in \u001b[0;36mModule.cuda.<locals>.<lambda>\u001b[0;34m(t)\u001b[0m\n\u001b[1;32m    888\u001b[0m \u001b[38;5;28;01mdef\u001b[39;00m \u001b[38;5;21mcuda\u001b[39m(\u001b[38;5;28mself\u001b[39m: T, device: Optional[Union[\u001b[38;5;28mint\u001b[39m, device]] \u001b[38;5;241m=\u001b[39m \u001b[38;5;28;01mNone\u001b[39;00m) \u001b[38;5;241m-\u001b[39m\u001b[38;5;241m>\u001b[39m T:\n\u001b[1;32m    889\u001b[0m \u001b[38;5;250m    \u001b[39m\u001b[38;5;124mr\u001b[39m\u001b[38;5;124;03m\"\"\"Moves all model parameters and buffers to the GPU.\u001b[39;00m\n\u001b[1;32m    890\u001b[0m \n\u001b[1;32m    891\u001b[0m \u001b[38;5;124;03m    This also makes associated parameters and buffers different objects. So\u001b[39;00m\n\u001b[0;32m   (...)\u001b[0m\n\u001b[1;32m    903\u001b[0m \u001b[38;5;124;03m        Module: self\u001b[39;00m\n\u001b[1;32m    904\u001b[0m \u001b[38;5;124;03m    \"\"\"\u001b[39;00m\n\u001b[0;32m--> 905\u001b[0m     \u001b[38;5;28;01mreturn\u001b[39;00m \u001b[38;5;28mself\u001b[39m\u001b[38;5;241m.\u001b[39m_apply(\u001b[38;5;28;01mlambda\u001b[39;00m t: t\u001b[38;5;241m.\u001b[39mcuda(device))\n",
      "File \u001b[0;32m~/anaconda3/lib/python3.11/site-packages/torch/cuda/__init__.py:239\u001b[0m, in \u001b[0;36m_lazy_init\u001b[0;34m()\u001b[0m\n\u001b[1;32m    235\u001b[0m     \u001b[38;5;28;01mraise\u001b[39;00m \u001b[38;5;167;01mRuntimeError\u001b[39;00m(\n\u001b[1;32m    236\u001b[0m         \u001b[38;5;124m\"\u001b[39m\u001b[38;5;124mCannot re-initialize CUDA in forked subprocess. To use CUDA with \u001b[39m\u001b[38;5;124m\"\u001b[39m\n\u001b[1;32m    237\u001b[0m         \u001b[38;5;124m\"\u001b[39m\u001b[38;5;124mmultiprocessing, you must use the \u001b[39m\u001b[38;5;124m'\u001b[39m\u001b[38;5;124mspawn\u001b[39m\u001b[38;5;124m'\u001b[39m\u001b[38;5;124m start method\u001b[39m\u001b[38;5;124m\"\u001b[39m)\n\u001b[1;32m    238\u001b[0m \u001b[38;5;28;01mif\u001b[39;00m \u001b[38;5;129;01mnot\u001b[39;00m \u001b[38;5;28mhasattr\u001b[39m(torch\u001b[38;5;241m.\u001b[39m_C, \u001b[38;5;124m'\u001b[39m\u001b[38;5;124m_cuda_getDeviceCount\u001b[39m\u001b[38;5;124m'\u001b[39m):\n\u001b[0;32m--> 239\u001b[0m     \u001b[38;5;28;01mraise\u001b[39;00m \u001b[38;5;167;01mAssertionError\u001b[39;00m(\u001b[38;5;124m\"\u001b[39m\u001b[38;5;124mTorch not compiled with CUDA enabled\u001b[39m\u001b[38;5;124m\"\u001b[39m)\n\u001b[1;32m    240\u001b[0m \u001b[38;5;28;01mif\u001b[39;00m _cudart \u001b[38;5;129;01mis\u001b[39;00m \u001b[38;5;28;01mNone\u001b[39;00m:\n\u001b[1;32m    241\u001b[0m     \u001b[38;5;28;01mraise\u001b[39;00m \u001b[38;5;167;01mAssertionError\u001b[39;00m(\n\u001b[1;32m    242\u001b[0m         \u001b[38;5;124m\"\u001b[39m\u001b[38;5;124mlibcudart functions unavailable. It looks like you have a broken build?\u001b[39m\u001b[38;5;124m\"\u001b[39m)\n",
      "\u001b[0;31mAssertionError\u001b[0m: Torch not compiled with CUDA enabled"
     ]
    }
   ],
   "source": [
    "tokenizer = AutoTokenizer.from_pretrained(\"sshleifer/distilbart-xsum-12-6\")\n",
    "model = AutoModelForSeq2SeqLM.from_pretrained(\"sshleifer/distilbart-xsum-12-6\").cuda()"
   ]
  },
  {
   "cell_type": "code",
   "execution_count": null,
   "metadata": {
    "id": "XJFXr6pkI_uJ"
   },
   "outputs": [],
   "source": [
    "def f(x):\n",
    "    inputs = tokenizer(x, return_tensors=\"pt\", padding=True).to(\"cuda\")\n",
    "    with torch.no_grad():\n",
    "        out = model.generate(**inputs)\n",
    "    sentence = [tokenizer.decode(g, skip_special_tokens=True) for g in out]\n",
    "    return np.array(sentence)"
   ]
  },
  {
   "cell_type": "code",
   "execution_count": null,
   "metadata": {
    "id": "O-dQmdVb9ets"
   },
   "outputs": [],
   "source": [
    "#from torch.utils._pytree import Context, _register_pytree_node"
   ]
  },
  {
   "cell_type": "code",
   "execution_count": null,
   "metadata": {
    "id": "eMF21sXc6znT"
   },
   "outputs": [],
   "source": [
    "#pip install torch torchvision torchaudio --index-url https://download.pytorch.org/whl/cu118"
   ]
  },
  {
   "cell_type": "code",
   "execution_count": null,
   "metadata": {
    "id": "ZFLMsUycMg9D"
   },
   "outputs": [],
   "source": [
    "transcripts=colbert_df['transcripts_copy'].apply(lambda x: x[:1024])"
   ]
  },
  {
   "cell_type": "code",
   "execution_count": null,
   "metadata": {
    "id": "daOc0npxyIZh"
   },
   "outputs": [],
   "source": [
    "summaries = []\n",
    "for i in transcripts:\n",
    "  transcript = f(i)\n",
    "  summaries.append(transcript)"
   ]
  },
  {
   "cell_type": "code",
   "execution_count": null,
   "metadata": {
    "id": "OMb0weER9nFL"
   },
   "outputs": [],
   "source": [
    "colbert_df['proposed_title'] = summaries"
   ]
  },
  {
   "cell_type": "code",
   "execution_count": null,
   "metadata": {
    "id": "cO1nZR4l-RYG"
   },
   "outputs": [],
   "source": [
    "colbert_df.to_csv(\"new_titles.csv\")"
   ]
  },
  {
   "cell_type": "code",
   "execution_count": null,
   "metadata": {
    "id": "Mzn_-W8B_mbN"
   },
   "outputs": [],
   "source": [
    "colbert_df['proposed_title'].head(2)"
   ]
  },
  {
   "cell_type": "code",
   "execution_count": null,
   "metadata": {
    "id": "Tgx7NUZe7iQ9"
   },
   "outputs": [],
   "source": [
    "colbert_df = pd.read_csv(\"new_titles.csv\", error_bad_lines=False)"
   ]
  },
  {
   "cell_type": "code",
   "execution_count": null,
   "metadata": {
    "id": "eAkctO73AuJp"
   },
   "outputs": [],
   "source": [
    "colbert_df.head(2)"
   ]
  },
  {
   "cell_type": "code",
   "execution_count": null,
   "metadata": {
    "id": "q1ZZVfHKA4Wz"
   },
   "outputs": [],
   "source": [
    "colbert_df.dropna(subset=[\"proposed_title\"], inplace=True)"
   ]
  },
  {
   "cell_type": "code",
   "execution_count": null,
   "metadata": {
    "id": "JbXMl2_WBI3M"
   },
   "outputs": [],
   "source": [
    "colbert_df.info()"
   ]
  },
  {
   "cell_type": "code",
   "execution_count": null,
   "metadata": {
    "id": "c94cEHfn_aU7"
   },
   "outputs": [],
   "source": [
    "#convert proposed title to string\n",
    "colbert_df[\"proposed_title_\"] = colbert_df['proposed_title'].apply(lambda x: x.replace(\"[\",\"\"))"
   ]
  },
  {
   "cell_type": "code",
   "execution_count": null,
   "metadata": {
    "id": "HdnEFIo0FRGA"
   },
   "outputs": [],
   "source": [
    "colbert_df[\"proposed_title_\"] = colbert_df['proposed_title_'].apply(lambda x: x.replace(\"]\",\"\"))"
   ]
  },
  {
   "cell_type": "code",
   "execution_count": null,
   "metadata": {
    "id": "k818t1PsEKCO"
   },
   "outputs": [],
   "source": [
    "colbert_df.head(10)"
   ]
  },
  {
   "cell_type": "code",
   "execution_count": null,
   "metadata": {
    "id": "s0ptIAnk-Vlr"
   },
   "outputs": [],
   "source": [
    "#let's look at word count differences between original Video Title and New Title\n",
    "colbert_df['word_count_title'] = colbert_df['video_title'].str.split().str.len()\n",
    "colbert_df['word_count_new_title'] = colbert_df['proposed_title_'].str.split().str.len()"
   ]
  },
  {
   "cell_type": "code",
   "execution_count": null,
   "metadata": {
    "id": "1Yat3284A5uB"
   },
   "outputs": [],
   "source": [
    "#difference in word count for title and new title\n",
    "colbert_df['word_count_title_diff'] = colbert_df['word_count_title'] - colbert_df['word_count_new_title']"
   ]
  },
  {
   "cell_type": "code",
   "execution_count": null,
   "metadata": {
    "id": "JWBqxztYBKlQ"
   },
   "outputs": [],
   "source": [
    "colbert_df['word_count_title_diff'].mean()"
   ]
  },
  {
   "cell_type": "markdown",
   "metadata": {
    "id": "t88nQJNtB8ya"
   },
   "source": [
    "# Text Similarity Analysis"
   ]
  },
  {
   "cell_type": "markdown",
   "metadata": {
    "id": "6nBgzcgDDxlI"
   },
   "source": [
    "Text similarity with Scikit-Learn"
   ]
  },
  {
   "cell_type": "code",
   "execution_count": null,
   "metadata": {
    "id": "ZJO_uFdVFi89"
   },
   "outputs": [],
   "source": [
    "from sklearn.metrics.pairwise import cosine_similarity"
   ]
  },
  {
   "cell_type": "code",
   "execution_count": null,
   "metadata": {
    "id": "PRId97yEB8Z9"
   },
   "outputs": [],
   "source": [
    "text1 = colbert_df[\"video_title\"][10]\n",
    "text2 = colbert_df[\"proposed_title_\"][10]\n",
    "\n",
    "\n",
    "# Convert the texts into TF-IDF vectors\n",
    "vectorizer = TfidfVectorizer()\n",
    "vectors = vectorizer.fit_transform([text1, text2])\n",
    "\n",
    "# Calculate the cosine similarity between the vectors\n",
    "similarity = cosine_similarity(vectors)\n",
    "print(similarity[0][1])"
   ]
  },
  {
   "cell_type": "code",
   "execution_count": null,
   "metadata": {
    "id": "5wL-2MTsGD2N"
   },
   "outputs": [],
   "source": [
    "colbert_df.shape[0]"
   ]
  },
  {
   "cell_type": "code",
   "execution_count": null,
   "metadata": {
    "id": "nJNVYHSGF-Lf"
   },
   "outputs": [],
   "source": [
    "scikit_sims = []\n",
    "for i in range(colbert_df.shape[0]):\n",
    "  text1 = colbert_df[\"video_title\"][i]\n",
    "  text2 = colbert_df[\"proposed_title_\"][i]\n",
    "  # Convert the texts into TF-IDF vectors\n",
    "  vectorizer = TfidfVectorizer()\n",
    "  vectors = vectorizer.fit_transform([text1, text2])\n",
    "\n",
    "  # Calculate the cosine similarity between the vectors\n",
    "  similarity = cosine_similarity(vectors)\n",
    "  scikit_sims.append(similarity[0][1])\n"
   ]
  },
  {
   "cell_type": "code",
   "execution_count": null,
   "metadata": {
    "id": "rxcvVVP2KBl7"
   },
   "outputs": [],
   "source": [
    "colbert_df[\"scikit_sims\"]=scikit_sims"
   ]
  },
  {
   "cell_type": "markdown",
   "metadata": {
    "id": "LpNv9n68Gr3E"
   },
   "source": [
    "Text similarity with Spacy"
   ]
  },
  {
   "cell_type": "code",
   "execution_count": null,
   "metadata": {
    "id": "HTbglMBpIvrB"
   },
   "outputs": [],
   "source": [
    "pip install spacy"
   ]
  },
  {
   "cell_type": "code",
   "execution_count": null,
   "metadata": {
    "id": "g-1wyusy6oll"
   },
   "outputs": [],
   "source": [
    "import spacy.cli"
   ]
  },
  {
   "cell_type": "code",
   "execution_count": null,
   "metadata": {
    "id": "RRwtEKGB6Ytn"
   },
   "outputs": [],
   "source": [
    "spacy.cli.download(\"en_core_web_lg\")"
   ]
  },
  {
   "cell_type": "code",
   "execution_count": null,
   "metadata": {
    "id": "Z0SEFMV1qOCC"
   },
   "outputs": [],
   "source": [
    "nlp = spacy.load(\"en_core_web_lg\")"
   ]
  },
  {
   "cell_type": "code",
   "execution_count": null,
   "metadata": {
    "id": "LV92rixJ576l"
   },
   "outputs": [],
   "source": [
    "text1 = colbert_df[\"video_title\"][10]\n",
    "text2 = colbert_df[\"proposed_title_\"][10]"
   ]
  },
  {
   "cell_type": "code",
   "execution_count": null,
   "metadata": {
    "id": "F22fv7Y6GGB5"
   },
   "outputs": [],
   "source": [
    "text1_"
   ]
  },
  {
   "cell_type": "code",
   "execution_count": null,
   "metadata": {
    "id": "Ebhkx5DWCJwh"
   },
   "outputs": [],
   "source": [
    "text1_ = nlp(text1)\n",
    "text2_ = nlp(text2)"
   ]
  },
  {
   "cell_type": "code",
   "execution_count": null,
   "metadata": {
    "id": "lrOrCLgbDKut"
   },
   "outputs": [],
   "source": [
    "similarity_spacy = text1_.similarity(text2_)\n",
    "similarity_spacy"
   ]
  },
  {
   "cell_type": "code",
   "execution_count": null,
   "metadata": {
    "id": "FYcItW0aDXUI"
   },
   "outputs": [],
   "source": [
    "spacy_sims = []\n",
    "for i in range(colbert_df.shape[0]):\n",
    "  text1 = nlp(colbert_df[\"video_title\"][i])\n",
    "  text2 = nlp(colbert_df[\"proposed_title_\"][i])\n",
    "  spacy_sims.append(text1.similarity(text2))\n"
   ]
  },
  {
   "cell_type": "code",
   "execution_count": null,
   "metadata": {
    "id": "sbuC2-yiDokL"
   },
   "outputs": [],
   "source": [
    "colbert_df[\"spacy_sims\"] = spacy_sims"
   ]
  },
  {
   "cell_type": "markdown",
   "metadata": {
    "id": "MvfQvgjfJYlg"
   },
   "source": [
    "Text similarity with Difflib"
   ]
  },
  {
   "cell_type": "code",
   "execution_count": null,
   "metadata": {
    "id": "Nqj3TdesJYTm"
   },
   "outputs": [],
   "source": [
    "import difflib"
   ]
  },
  {
   "cell_type": "code",
   "execution_count": null,
   "metadata": {
    "id": "drpJtjRwJgw7"
   },
   "outputs": [],
   "source": [
    "def string_similarity(text1, text2):\n",
    "  result = difflib.SequenceMatcher(a=text1, b=text2)\n",
    "  return result.ratio()"
   ]
  },
  {
   "cell_type": "code",
   "execution_count": null,
   "metadata": {
    "id": "WY_GsiQfJyEm"
   },
   "outputs": [],
   "source": [
    "text1 = colbert_df[\"video_title\"][10]\n",
    "text2 = colbert_df[\"proposed_title_\"][10]\n",
    "string_similarity(text1,text2)"
   ]
  },
  {
   "cell_type": "code",
   "execution_count": null,
   "metadata": {
    "id": "SYLNcTJ7LfBS"
   },
   "outputs": [],
   "source": [
    "difflib_sims = []\n",
    "for i in range(colbert_df.shape[0]):\n",
    "  text1 = colbert_df[\"video_title\"][i]\n",
    "  text2 = colbert_df[\"proposed_title_\"][i]\n",
    "  difflib_sims.append(string_similarity(text1,text2))"
   ]
  },
  {
   "cell_type": "code",
   "execution_count": null,
   "metadata": {
    "id": "kzbygD1jLq-u"
   },
   "outputs": [],
   "source": [
    "colbert_df['difflib_sims'] = difflib_sims"
   ]
  },
  {
   "cell_type": "markdown",
   "metadata": {
    "id": "xDfgCwzyMLJg"
   },
   "source": [
    "Text similarity with Fuzzy Match"
   ]
  },
  {
   "cell_type": "code",
   "execution_count": null,
   "metadata": {
    "id": "DpZP5IVVO0id"
   },
   "outputs": [],
   "source": [
    "pip install thefuzz"
   ]
  },
  {
   "cell_type": "code",
   "execution_count": null,
   "metadata": {
    "id": "chQvkz8MPBnw"
   },
   "outputs": [],
   "source": [
    "from thefuzz import fuzz\n",
    "from thefuzz import process"
   ]
  },
  {
   "cell_type": "code",
   "execution_count": null,
   "metadata": {
    "id": "qmCvmFv2PHoS"
   },
   "outputs": [],
   "source": [
    "colbert_df[\"Match_Column\"] = colbert_df['video_title']"
   ]
  },
  {
   "cell_type": "code",
   "execution_count": null,
   "metadata": {
    "id": "yB77ayJMR0cw"
   },
   "outputs": [],
   "source": [
    "colbert_df[\"Match_Ratio\"] = colbert_df.apply(lambda x: fuzz.ratio(x.Match_Column, x.proposed_title), axis=1)"
   ]
  },
  {
   "cell_type": "code",
   "execution_count": null,
   "metadata": {
    "id": "KoehJKl2TzUM"
   },
   "outputs": [],
   "source": [
    "fuzzy_sort_sims = []\n",
    "fuzzy_set_sims = []\n",
    "for i in range(colbert_df.shape[0]):\n",
    "  text1 = colbert_df[\"video_title\"][i]\n",
    "  text2 = colbert_df[\"proposed_title_\"][i]\n",
    "  # Convert the texts into TF-IDF vectors\n",
    "  fuzzy_sort_sims.append(fuzz.token_sort_ratio(text1,text2))\n",
    "  fuzzy_set_sims.append(fuzz.token_set_ratio(text1,text2))"
   ]
  },
  {
   "cell_type": "code",
   "execution_count": null,
   "metadata": {
    "id": "EIs2lf30UMDr"
   },
   "outputs": [],
   "source": [
    "colbert_df[\"fuzzy_sort_sims\"] = fuzzy_sort_sims\n",
    "colbert_df[\"fuzzy_set_sims\"] = fuzzy_set_sims"
   ]
  },
  {
   "cell_type": "markdown",
   "metadata": {
    "id": "bik5wp14MCpb"
   },
   "source": [
    "Summary of similarities"
   ]
  },
  {
   "cell_type": "code",
   "execution_count": null,
   "metadata": {
    "id": "aflMZJMCLwYx"
   },
   "outputs": [],
   "source": [
    "colbert_df['difflib_sims'].mean()"
   ]
  },
  {
   "cell_type": "code",
   "execution_count": null,
   "metadata": {
    "id": "rRJzIQV3L_lA"
   },
   "outputs": [],
   "source": [
    "colbert_df[\"scikit_sims\"].mean()"
   ]
  },
  {
   "cell_type": "code",
   "execution_count": null,
   "metadata": {
    "id": "SmR-WAdcS0fi"
   },
   "outputs": [],
   "source": [
    "colbert_df[\"fuzzy_sort_sims\"].mean()"
   ]
  },
  {
   "cell_type": "code",
   "execution_count": null,
   "metadata": {
    "id": "Rr03S7PeTuaR"
   },
   "outputs": [],
   "source": [
    "colbert_df[\"fuzzy_set_sims\"].mean()"
   ]
  },
  {
   "cell_type": "code",
   "execution_count": null,
   "metadata": {
    "id": "HOKmpGgnrpOC"
   },
   "outputs": [],
   "source": [
    "colbert_df[\"spacy_sims\"].mean()"
   ]
  },
  {
   "cell_type": "markdown",
   "metadata": {
    "id": "G8pn0zF5v25i"
   },
   "source": [
    "# Additional text analysis"
   ]
  },
  {
   "cell_type": "code",
   "execution_count": 3,
   "metadata": {
    "id": "DLSozbW28JWB",
    "tags": []
   },
   "outputs": [],
   "source": [
    "import sklearn\n",
    "from sklearn.feature_extraction.text import TfidfVectorizer\n",
    "from sklearn.model_selection import train_test_split\n",
    "from sklearn.ensemble import RandomForestClassifier"
   ]
  },
  {
   "cell_type": "code",
   "execution_count": null,
   "metadata": {
    "id": "UrdMbwRyyY2T"
   },
   "outputs": [],
   "source": [
    "url = \"https://raw.githubusercontent.com/polinamin/colbert_report/main/all_data_colbert.csv\"\n",
    "colbert_df = pd.read_csv(url, low_memory=False)\n",
    "colbert_df.drop(columns=[\"Unnamed: 0\"], inplace=True)"
   ]
  },
  {
   "cell_type": "code",
   "execution_count": null,
   "metadata": {
    "id": "uekNnhzy0sgF"
   },
   "outputs": [],
   "source": [
    "url_dem = \"https://raw.githubusercontent.com/polinamin/colbert_report/main/demographics.csv\"\n",
    "demographics = pd.read_csv(url_dem, low_memory=False)"
   ]
  },
  {
   "cell_type": "code",
   "execution_count": 4,
   "metadata": {
    "id": "yGPoTT1aA6EY",
    "tags": []
   },
   "outputs": [],
   "source": [
    "stops = nltk.corpus.stopwords.words('english')\n",
    "newStopWords = ['applause','back','welcome','stephen','everybody',\n",
    "                'break','cheering','colbert',\"wa\", \"know\", \"show\",\n",
    "                \"like\", \"go\", \"get\", \"dont\", \"people\",\n",
    "                \"im\", \"one\",\"thats\",\"going\",\"right\", \"get\", \"got\",\n",
    "                \"well\", \"thing\", \"want\", \"would\", \"youre\",\n",
    "                \"time\", \"say\", \"oh\", \"laughter\", \"yes\", \"said\", \"think\",\n",
    "                \"yeah\", \"ha\", \"let\", \"ladies\", \"gentlemen\", \"latenight\",\n",
    "                \"late\", \"night\", \"cheers\",\"cheer\", \"everybody\", \"music\",\n",
    "                \"guest\",\"tonight\", \"hi\", \"hey\", \"hello\"]\n",
    "stops.extend(newStopWords)"
   ]
  },
  {
   "cell_type": "code",
   "execution_count": null,
   "metadata": {
    "id": "CqZQWtiZz6us"
   },
   "outputs": [],
   "source": [
    "def clean_text(text):\n",
    "  emoji_pattern = re.compile(\"[\"\n",
    "        u\"\\U0001F600-\\U0001F64F\"  # emoticons\n",
    "        u\"\\U0001F300-\\U0001F5FF\"  # symbols & pictographs\n",
    "        u\"\\U0001F680-\\U0001F6FF\"  # transport & map symbols\n",
    "        u\"\\U0001F1E0-\\U0001F1FF\"  # flags (iOS)\n",
    "                           \"]+\", flags=re.UNICODE)\n",
    "  a = emoji_pattern.sub(r'', str(text)) # remove emoji\n",
    "  pattern1 = re.compile(r'>>')\n",
    "  pattern3 = re.compile(r\"\\[.*?\\]\")\n",
    "  pattern4 = re.compile(r\"Stephen:\")\n",
    "  b=pattern1.sub(r'', str(a))\n",
    "  b=re.sub(r'[^ \\nA-Za-zÀ-ÖØ-öø-ÿ/]+', '', b)\n",
    "  b=re.sub(r'[\\\\/×\\^\\]\\[÷]', '', b)\n",
    "  c=pattern3.sub(r'', str(b))\n",
    "  d=re.sub(r'(?i)'+\"Stephen:\", \"\", str(c))\n",
    "  phrases = [\"WELCOME BACK\", \"EVERYBODY\",\"LADIES AND GENTLEMAN\", \"APPLAUSE\", \"CHEER\", \"WE ARE BACK\", \"latenight\", \"Late Night\"]\n",
    "\n",
    "  for i in range(len(phrases)):\n",
    "    interim = re.compile(re.escape(phrases[i]), re.IGNORECASE)\n",
    "    e = interim.sub(\"\", d)\n",
    "\n",
    "  words = [x.lower() for x in e.split() if (x.lower() not in stops) and (len(x)>1)]\n",
    "  sentence = \" \".join(words)\n",
    "\n",
    "\n",
    "\n",
    "  return sentence\n"
   ]
  },
  {
   "cell_type": "code",
   "execution_count": null,
   "metadata": {
    "id": "6k1Z39yEz6u4"
   },
   "outputs": [],
   "source": [
    "colbert_df[\"transcripts_copy\"]=colbert_df[\"transcripts\"]"
   ]
  },
  {
   "cell_type": "code",
   "execution_count": null,
   "metadata": {
    "id": "JJeMaIcvz6u4"
   },
   "outputs": [],
   "source": [
    "colbert_df['transcripts_copy'] = colbert_df['transcripts_copy'].apply(lambda txt: clean_text(txt))"
   ]
  },
  {
   "cell_type": "code",
   "execution_count": null,
   "metadata": {
    "id": "mCJCfkaMjlOh"
   },
   "outputs": [],
   "source": [
    "colbert_df.head(10)"
   ]
  },
  {
   "cell_type": "code",
   "execution_count": null,
   "metadata": {
    "id": "2qNtH7b4v9CH"
   },
   "outputs": [],
   "source": [
    "colbert_df['word_count'] = colbert_df['transcripts'].str.split().str.len()"
   ]
  },
  {
   "cell_type": "code",
   "execution_count": null,
   "metadata": {
    "id": "IG0N12dC0_tl"
   },
   "outputs": [],
   "source": [
    "celebrities = demographics.drop_duplicates()"
   ]
  },
  {
   "cell_type": "code",
   "execution_count": null,
   "metadata": {
    "id": "ZDWnzljc0_tl"
   },
   "outputs": [],
   "source": [
    "#create name hashtags\n",
    "celebrities[\"hash_name\"] = \"#\"+celebrities[\"Guest(s)\"].str.replace(\" \", \"\")"
   ]
  },
  {
   "cell_type": "code",
   "execution_count": null,
   "metadata": {
    "id": "rNSc1R2U4e89"
   },
   "outputs": [],
   "source": [
    "celebs_filtered = celebrities.dropna(subset = [\"Guest(s)\",\"Occupation\",\"Gender\"])"
   ]
  },
  {
   "cell_type": "code",
   "execution_count": null,
   "metadata": {
    "id": "zlZOYo4_NGKN"
   },
   "outputs": [],
   "source": [
    "celebs_filtered.shape"
   ]
  },
  {
   "cell_type": "code",
   "execution_count": null,
   "metadata": {
    "id": "4yeYPLsaobfJ"
   },
   "outputs": [],
   "source": [
    "colbert_df.dropna(inplace=True)"
   ]
  },
  {
   "cell_type": "code",
   "execution_count": null,
   "metadata": {
    "id": "n-T0yFxD0_tm"
   },
   "outputs": [],
   "source": [
    "genders = []\n",
    "occuptions = []\n",
    "for i, v in colbert_df.iterrows():\n",
    "  for j, r in celebs_filtered.iterrows():\n",
    "    if (r[\"hash_name\"] in v['description']) and (r[\"Guest(s)\"] in v['video_title']) or (r[\"Guest(s)\"] in v['transcripts'][:200]):\n",
    "      genders.append((v['video_title'],r[\"Guest(s)\"],r[\"Gender\"], r[\"Occupation\"]))\n",
    "genders_ = pd.DataFrame(genders, columns = [\"video_title\", \"Name\", \"gender\", \"occupation\"])\n",
    "colbert_df = pd.merge(left = colbert_df, right = genders_, left_on = \"video_title\", right_on = \"video_title\", how = \"left\")\n"
   ]
  },
  {
   "cell_type": "code",
   "execution_count": null,
   "metadata": {
    "id": "DFcOFxIDz6u5"
   },
   "outputs": [],
   "source": [
    "mapped_df = colbert_df.dropna()"
   ]
  },
  {
   "cell_type": "code",
   "execution_count": null,
   "metadata": {
    "id": "ljmqrXiaI8zy"
   },
   "outputs": [],
   "source": [
    "mapped_df.to_csv(\"filtered_data_with_dems.csv\", index=False)"
   ]
  },
  {
   "cell_type": "code",
   "execution_count": null,
   "metadata": {
    "id": "CZCKbeW0lmne"
   },
   "outputs": [],
   "source": [
    "colbert_df.to_csv(\"all_data_with_dems.csv\", index=False)"
   ]
  },
  {
   "cell_type": "code",
   "execution_count": 5,
   "metadata": {
    "id": "RaFdJ5yzwgPx",
    "tags": []
   },
   "outputs": [],
   "source": [
    "colbert_df = pd.read_csv(\"all_data_with_dems.csv\", index_col = 0)"
   ]
  },
  {
   "cell_type": "code",
   "execution_count": 6,
   "metadata": {
    "id": "5psFStiEsbNL",
    "tags": []
   },
   "outputs": [],
   "source": [
    "mapped_df = pd.read_csv(\"filtered_data_with_dems.csv\", index_col = 0)"
   ]
  },
  {
   "cell_type": "code",
   "execution_count": null,
   "metadata": {
    "id": "ymuLexxmwnQL"
   },
   "outputs": [],
   "source": [
    "colbert_df.isna().sum()"
   ]
  },
  {
   "cell_type": "markdown",
   "metadata": {
    "id": "C6O3VD6b9g7w"
   },
   "source": [
    "Most frequent words by group"
   ]
  },
  {
   "cell_type": "code",
   "execution_count": 7,
   "metadata": {
    "id": "0kAPXzH0snVW",
    "tags": []
   },
   "outputs": [],
   "source": [
    "mapped_df.dropna(inplace=True)"
   ]
  },
  {
   "cell_type": "code",
   "execution_count": 69,
   "metadata": {
    "id": "K30HBplY_pER",
    "tags": []
   },
   "outputs": [],
   "source": [
    "w_tokenizer = nltk.tokenize.WhitespaceTokenizer()\n",
    "lemmatizer = WordNetLemmatizer()\n",
    "def lemmatize_text(text):\n",
    "    x = [lemmatizer.lemmatize(w) for w in w_tokenizer.tokenize(text)]\n",
    "    return(\" \".join(x))\n",
    "\n",
    "colbtert_df_transcripts_lemmed = mapped_df['transcripts_copy'].apply(lemmatize_text)"
   ]
  },
  {
   "cell_type": "code",
   "execution_count": 36,
   "metadata": {
    "id": "ubihJhRw79-q",
    "tags": []
   },
   "outputs": [],
   "source": [
    "cvec = CountVectorizer(ngram_range=(3, 3), stop_words=stops)\n",
    "cvec.fit(colbtert_df_transcripts_lemmed)\n",
    "cvec_transform = cvec.transform(colbtert_df_transcripts_lemmed)\n",
    "transcripts_lemmed = pd.DataFrame(cvec_transform.todense(), columns=cvec.get_feature_names_out())"
   ]
  },
  {
   "cell_type": "code",
   "execution_count": 10,
   "metadata": {
    "tags": []
   },
   "outputs": [],
   "source": [
    "mapped_df = mapped_df.reset_index()"
   ]
  },
  {
   "cell_type": "code",
   "execution_count": 38,
   "metadata": {
    "id": "bwmIqNQOM6gz",
    "tags": []
   },
   "outputs": [],
   "source": [
    "transcripts_lemmed_ = pd.concat((transcripts_lemmed, mapped_df[\"occupation\"]), axis=1)"
   ]
  },
  {
   "cell_type": "code",
   "execution_count": 39,
   "metadata": {
    "id": "I3OGAnxdM6g0",
    "tags": []
   },
   "outputs": [
    {
     "data": {
      "image/png": "[encoded data removed]",
      "text/plain": [
       "<Figure size 1000x1400 with 6 Axes>"
      ]
     },
     "metadata": {},
     "output_type": "display_data"
    }
   ],
   "source": [
    "fig, axes = plt.subplots(6, 1, figsize=(10, 14), tight_layout=True)\n",
    "\n",
    "(transcripts_lemmed_[transcripts_lemmed_['occupation'] == \"Actor\"]\n",
    "    .drop(columns=['occupation'])\n",
    "    .sum()\n",
    "    .sort_values(ascending=False)\n",
    "    .head(15)\n",
    "    .plot(kind='barh', title='Top Trigrams for Transcripts - Actor', color='#004065', fontsize=8, ax=axes[0])).invert_yaxis();\n",
    "\n",
    "(transcripts_lemmed_[transcripts_lemmed_['occupation'] == \"Musician\"]\n",
    "    .drop(columns=['occupation'])\n",
    "    .sum()\n",
    "    .sort_values(ascending=False)\n",
    "    .head(15)\n",
    "    .plot(kind='barh', title='Top Trigrams for Transcripts - Musician', color='#004065', fontsize=8, ax=axes[1])).invert_yaxis();\n",
    "\n",
    "(transcripts_lemmed_[transcripts_lemmed_['occupation'] == \"Comedian\"]\n",
    "    .drop(columns=['occupation'])\n",
    "    .sum()\n",
    "    .sort_values(ascending=False)\n",
    "    .head(15)\n",
    "    .plot(kind='barh', title='Top Trigrams for Transcripts - Comedian', color='#004065', fontsize=8, ax=axes[2])).invert_yaxis();\n",
    "\n",
    "(transcripts_lemmed_[transcripts_lemmed_['occupation'] == \"Host\"]\n",
    "    .drop(columns=['occupation'])\n",
    "    .sum()\n",
    "    .sort_values(ascending=False)\n",
    "    .head(15)\n",
    "    .plot(kind='barh', title='Top Trigrams for Transcripts - Host', color='#004065', fontsize=8, ax=axes[3])).invert_yaxis();\n",
    "\n",
    "(transcripts_lemmed_[transcripts_lemmed_['occupation'] == \"Politician\"]\n",
    "    .drop(columns=['occupation'])\n",
    "    .sum()\n",
    "    .sort_values(ascending=False)\n",
    "    .head(15)\n",
    "    .plot(kind='barh', title='Top Trigrams for Transcripts - Politician', color='#004065', fontsize=8, ax=axes[4])).invert_yaxis();\n",
    "\n",
    "(transcripts_lemmed_[transcripts_lemmed_['occupation'] == \"Personality\"]\n",
    "    .drop(columns=['occupation'])\n",
    "    .sum()\n",
    "    .sort_values(ascending=False)\n",
    "    .head(15)\n",
    "    .plot(kind='barh', title='Top Trigrams for Transcripts - Personality', color='#004065', fontsize=8, ax=axes[5])).invert_yaxis();\n",
    "\n",
    "\n",
    "\n",
    "fig.suptitle('Transcript analysis (frequency of 3-word occurrence by guest role)', fontsize=16)\n",
    "plt.savefig('transcript_by_role.jpg');"
   ]
  },
  {
   "cell_type": "code",
   "execution_count": 70,
   "metadata": {
    "tags": []
   },
   "outputs": [],
   "source": [
    "cvec_1 = CountVectorizer(ngram_range=(1, 1), stop_words=stops)\n",
    "cvec_1.fit(colbtert_df_transcripts_lemmed)\n",
    "cvec_transform_1 = cvec_1.transform(colbtert_df_transcripts_lemmed)\n",
    "transcripts_lemmed_1 = pd.DataFrame(cvec_transform_1.todense(), columns=cvec_1.get_feature_names_out())"
   ]
  },
  {
   "cell_type": "code",
   "execution_count": 72,
   "metadata": {
    "tags": []
   },
   "outputs": [],
   "source": [
    "transcripts_lemmed_1 = transcripts_lemmed_1.drop(columns=[\"occupation\"])"
   ]
  },
  {
   "cell_type": "code",
   "execution_count": 73,
   "metadata": {
    "tags": []
   },
   "outputs": [],
   "source": [
    "transcripts_lemmed_1 = pd.concat((transcripts_lemmed_1, mapped_df[\"occupation\"]), axis=1)"
   ]
  },
  {
   "cell_type": "code",
   "execution_count": 74,
   "metadata": {
    "tags": []
   },
   "outputs": [
    {
     "data": {
      "image/png": "[encoded data removed]",
      "text/plain": [
       "<Figure size 1000x1400 with 6 Axes>"
      ]
     },
     "metadata": {},
     "output_type": "display_data"
    }
   ],
   "source": [
    "fig, axes_ = plt.subplots(6, 1, figsize=(10, 14), tight_layout=True)\n",
    "\n",
    "(transcripts_lemmed_1[transcripts_lemmed_1['occupation'] == \"Actor\"]\n",
    "    .drop(columns=['occupation'])\n",
    "    .sum()\n",
    "    .sort_values(ascending=False)\n",
    "    .head(15)\n",
    "    .plot(kind='barh', title='Top Words for Transcripts - Actor', color='#004065', fontsize=8, ax=axes_[0])).invert_yaxis();\n",
    "\n",
    "\n",
    "(transcripts_lemmed_1[transcripts_lemmed_1['occupation'] == \"Musician\"]\n",
    "    .drop(columns=['occupation'])\n",
    "    .sum()\n",
    "    .sort_values(ascending=False)\n",
    "    .head(15)\n",
    "    .plot(kind='barh', title='Top Words for Transcripts - Musician', color='#004065', fontsize=8, ax=axes_[1])).invert_yaxis();\n",
    "\n",
    "(transcripts_lemmed_1[transcripts_lemmed_1['occupation'] == \"Comedian\"]\n",
    "    .drop(columns=['occupation'])\n",
    "    .sum()\n",
    "    .sort_values(ascending=False)\n",
    "    .head(15)\n",
    "    .plot(kind='barh', title='Top Words for Transcripts - Comedian', color='#004065', fontsize=8, ax=axes_[2])).invert_yaxis();\n",
    "\n",
    "(transcripts_lemmed_1[transcripts_lemmed_1['occupation'] == \"Host\"]\n",
    "    .drop(columns=['occupation'])\n",
    "    .sum()\n",
    "    .sort_values(ascending=False)\n",
    "    .head(15)\n",
    "    .plot(kind='barh', title='Top Words for Transcripts - Host', color='#004065', fontsize=8, ax=axes_[3])).invert_yaxis();\n",
    "\n",
    "(transcripts_lemmed_1[transcripts_lemmed_1['occupation'] == \"Politician\"]\n",
    "    .drop(columns=['occupation'])\n",
    "    .sum()\n",
    "    .sort_values(ascending=False)\n",
    "    .head(15)\n",
    "    .plot(kind='barh', title='Top Words for Transcripts - Politician', color='#004065', fontsize=8, ax=axes_[4])).invert_yaxis();\n",
    "\n",
    "(transcripts_lemmed_1[transcripts_lemmed_1['occupation'] == \"Personality\"]\n",
    "    .drop(columns=['occupation'])\n",
    "    .sum()\n",
    "    .sort_values(ascending=False)\n",
    "    .head(15)\n",
    "    .plot(kind='barh', title='Top Words for Transcripts - Personality', color='#004065', fontsize=8, ax=axes_[5])).invert_yaxis();\n",
    "\n",
    "\n",
    "fig.suptitle('Transcript analysis (frequency of word occurrence by guest role)', fontsize=16)\n",
    "plt.savefig('transcript_by_role_1.jpg');"
   ]
  },
  {
   "cell_type": "code",
   "execution_count": null,
   "metadata": {
    "id": "8vgH9u8HCCrk"
   },
   "outputs": [],
   "source": [
    "transcripts_df = pd.DataFrame(colbtert_df_transcripts_lemmed)"
   ]
  },
  {
   "cell_type": "code",
   "execution_count": null,
   "metadata": {
    "id": "gO7GfweX99e6"
   },
   "outputs": [],
   "source": [
    "tfidf = TfidfVectorizer()"
   ]
  },
  {
   "cell_type": "code",
   "execution_count": 75,
   "metadata": {
    "id": "KrJUUIJSKzEY",
    "tags": []
   },
   "outputs": [],
   "source": [
    "vid_stats_1 = pd.read_pickle(\"vid_stats_1.pkl\")\n",
    "vid_stats_2 = pd.read_pickle(\"vid_stats_2.pkl\")\n",
    "vid_stats_3 = pd.read_pickle(\"vid_stats_3.pkl\")\n",
    "vid_stats_4 = pd.read_pickle(\"vid_stats_4.pkl\")\n",
    "vid_stats_5 = pd.read_pickle(\"vid_stats_5.pkl\")\n",
    "vid_stats_6 = pd.read_pickle(\"vid_stats_6.pkl\")\n",
    "vid_stats_7 = pd.read_pickle(\"vid_stats_7.pkl\")\n",
    "vid_stats_8 = pd.read_pickle(\"vid_stats_8.pkl\")\n",
    "vid_stats_9 = pd.read_pickle(\"vid_stats_9.pkl\")\n",
    "vid_stats_10 = pd.read_pickle(\"vid_stats_10.pkl\")\n",
    "vid_stats_11 = pd.read_pickle(\"vid_stats_11.pkl\")"
   ]
  },
  {
   "cell_type": "code",
   "execution_count": 77,
   "metadata": {
    "tags": []
   },
   "outputs": [
    {
     "data": {
      "text/html": [
       "<div>\n",
       "<style scoped>\n",
       "    .dataframe tbody tr th:only-of-type {\n",
       "        vertical-align: middle;\n",
       "    }\n",
       "\n",
       "    .dataframe tbody tr th {\n",
       "        vertical-align: top;\n",
       "    }\n",
       "\n",
       "    .dataframe thead th {\n",
       "        text-align: right;\n",
       "    }\n",
       "</style>\n",
       "<table border=\"1\" class=\"dataframe\">\n",
       "  <thead>\n",
       "    <tr style=\"text-align: right;\">\n",
       "      <th></th>\n",
       "      <th>video_id</th>\n",
       "      <th>video_views</th>\n",
       "      <th>video_likes</th>\n",
       "      <th>video_comments</th>\n",
       "      <th>video_duration</th>\n",
       "    </tr>\n",
       "  </thead>\n",
       "  <tbody>\n",
       "    <tr>\n",
       "      <th>0</th>\n",
       "      <td>DFCPznfRnS8</td>\n",
       "      <td>71657</td>\n",
       "      <td>1961</td>\n",
       "      <td>400</td>\n",
       "      <td>PT4M6S</td>\n",
       "    </tr>\n",
       "    <tr>\n",
       "      <th>1</th>\n",
       "      <td>lrm3agZABVc</td>\n",
       "      <td>90220</td>\n",
       "      <td>1756</td>\n",
       "      <td>109</td>\n",
       "      <td>PT2M39S</td>\n",
       "    </tr>\n",
       "    <tr>\n",
       "      <th>2</th>\n",
       "      <td>eo1tRMs9SzA</td>\n",
       "      <td>290068</td>\n",
       "      <td>4263</td>\n",
       "      <td>289</td>\n",
       "      <td>PT6M44S</td>\n",
       "    </tr>\n",
       "    <tr>\n",
       "      <th>3</th>\n",
       "      <td>aFXuAHnaJvk</td>\n",
       "      <td>165761</td>\n",
       "      <td>3348</td>\n",
       "      <td>141</td>\n",
       "      <td>PT3M44S</td>\n",
       "    </tr>\n",
       "    <tr>\n",
       "      <th>4</th>\n",
       "      <td>WOg93THAyE0</td>\n",
       "      <td>162283</td>\n",
       "      <td>10450</td>\n",
       "      <td>599</td>\n",
       "      <td>PT4M7S</td>\n",
       "    </tr>\n",
       "    <tr>\n",
       "      <th>...</th>\n",
       "      <td>...</td>\n",
       "      <td>...</td>\n",
       "      <td>...</td>\n",
       "      <td>...</td>\n",
       "      <td>...</td>\n",
       "    </tr>\n",
       "    <tr>\n",
       "      <th>995</th>\n",
       "      <td>OfIciEYmHI8</td>\n",
       "      <td>769198</td>\n",
       "      <td>9258</td>\n",
       "      <td>983</td>\n",
       "      <td>PT4M12S</td>\n",
       "    </tr>\n",
       "    <tr>\n",
       "      <th>996</th>\n",
       "      <td>E6WRJUuOT0o</td>\n",
       "      <td>1305877</td>\n",
       "      <td>16030</td>\n",
       "      <td>1307</td>\n",
       "      <td>PT7M44S</td>\n",
       "    </tr>\n",
       "    <tr>\n",
       "      <th>997</th>\n",
       "      <td>9Kq7IwqWPJ4</td>\n",
       "      <td>1725742</td>\n",
       "      <td>33671</td>\n",
       "      <td>1782</td>\n",
       "      <td>PT10M41S</td>\n",
       "    </tr>\n",
       "    <tr>\n",
       "      <th>998</th>\n",
       "      <td>kwlsZom_7wg</td>\n",
       "      <td>82627</td>\n",
       "      <td>1130</td>\n",
       "      <td>64</td>\n",
       "      <td>PT8M9S</td>\n",
       "    </tr>\n",
       "    <tr>\n",
       "      <th>999</th>\n",
       "      <td>zdrSc4HXxGU</td>\n",
       "      <td>69624</td>\n",
       "      <td>1447</td>\n",
       "      <td>55</td>\n",
       "      <td>PT3M48S</td>\n",
       "    </tr>\n",
       "  </tbody>\n",
       "</table>\n",
       "<p>1000 rows × 5 columns</p>\n",
       "</div>"
      ],
      "text/plain": [
       "        video_id video_views video_likes video_comments video_duration\n",
       "0    DFCPznfRnS8       71657        1961            400         PT4M6S\n",
       "1    lrm3agZABVc       90220        1756            109        PT2M39S\n",
       "2    eo1tRMs9SzA      290068        4263            289        PT6M44S\n",
       "3    aFXuAHnaJvk      165761        3348            141        PT3M44S\n",
       "4    WOg93THAyE0      162283       10450            599         PT4M7S\n",
       "..           ...         ...         ...            ...            ...\n",
       "995  OfIciEYmHI8      769198        9258            983        PT4M12S\n",
       "996  E6WRJUuOT0o     1305877       16030           1307        PT7M44S\n",
       "997  9Kq7IwqWPJ4     1725742       33671           1782       PT10M41S\n",
       "998  kwlsZom_7wg       82627        1130             64         PT8M9S\n",
       "999  zdrSc4HXxGU       69624        1447             55        PT3M48S\n",
       "\n",
       "[1000 rows x 5 columns]"
      ]
     },
     "execution_count": 77,
     "metadata": {},
     "output_type": "execute_result"
    }
   ],
   "source": [
    "vid_stats_1"
   ]
  },
  {
   "cell_type": "code",
   "execution_count": 86,
   "metadata": {
    "id": "Kjb9dVLJN7JI",
    "tags": []
   },
   "outputs": [],
   "source": [
    "vid_stats_df_final = vid_stats_1._append([vid_stats_2,\n",
    "                                            vid_stats_3,\n",
    "                                            vid_stats_4,\n",
    "                                            vid_stats_5,\n",
    "                                            vid_stats_6,\n",
    "                                            vid_stats_7,\n",
    "                                            vid_stats_8,\n",
    "                                            vid_stats_9,\n",
    "                                            vid_stats_10,\n",
    "                                            vid_stats_11], ignore_index=True)\n",
    "vid_stats_df_final.to_csv(\"vids_statistics.csv\")"
   ]
  },
  {
   "cell_type": "code",
   "execution_count": 79,
   "metadata": {
    "id": "iRZpQDTHOZMl",
    "tags": []
   },
   "outputs": [],
   "source": [
    "vids_statistics=pd.read_csv(\"vids_statistics.csv\",index_col=0)"
   ]
  },
  {
   "cell_type": "code",
   "execution_count": 83,
   "metadata": {
    "id": "SG5T3AEbOjsR",
    "tags": []
   },
   "outputs": [
    {
     "data": {
      "text/plain": [
       "(1000, 5)"
      ]
     },
     "execution_count": 83,
     "metadata": {},
     "output_type": "execute_result"
    }
   ],
   "source": [
    "vid_stats_1.shape"
   ]
  },
  {
   "cell_type": "code",
   "execution_count": null,
   "metadata": {
    "id": "W2ICHMbcO5Nr"
   },
   "outputs": [],
   "source": [
    "vids_statistics[\"stats_ratio\"]=vids_statistics[\"video_likes\"]/vids_statistics[\"video_views\"]"
   ]
  },
  {
   "cell_type": "code",
   "execution_count": null,
   "metadata": {
    "id": "BknYH6JKzkMA"
   },
   "outputs": [],
   "source": []
  }
 ],
 "metadata": {
  "colab": {
   "collapsed_sections": [
    "F3JWHcEXOUwR",
    "YqaH-G4lOhog",
    "hb6ryASpSE7T",
    "L9P66q6aUgQn",
    "IV_NU54tS4kp",
    "B7Uci7usstB5",
    "XuEhNSFTdnLy",
    "QNXDd8pGvxTT"
   ],
   "private_outputs": true,
   "provenance": []
  },
  "kernelspec": {
   "display_name": "Python 3 (ipykernel)",
   "language": "python",
   "name": "python3"
  },
  "language_info": {
   "codemirror_mode": {
    "name": "ipython",
    "version": 3
   },
   "file_extension": ".py",
   "mimetype": "text/x-python",
   "name": "python",
   "nbconvert_exporter": "python",
   "pygments_lexer": "ipython3",
   "version": "3.11.4"
  }
 },
 "nbformat": 4,
 "nbformat_minor": 4
}
